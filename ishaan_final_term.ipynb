{
  "nbformat": 4,
  "nbformat_minor": 0,
  "metadata": {
    "colab": {
      "name": "Untitled3.ipynb",
      "provenance": [],
      "collapsed_sections": [],
      "authorship_tag": "ABX9TyPRN6VNqJKEdNeDvOrEJmJq",
      "include_colab_link": true
    },
    "kernelspec": {
      "name": "python3",
      "display_name": "Python 3"
    }
  },
  "cells": [
    {
      "cell_type": "markdown",
      "metadata": {
        "id": "view-in-github",
        "colab_type": "text"
      },
      "source": [
        "<a href=\"https://colab.research.google.com/github/IshaanChawla0001/python-project/blob/main/ishaan_final_term.ipynb\" target=\"_parent\"><img src=\"https://colab.research.google.com/assets/colab-badge.svg\" alt=\"Open In Colab\"/></a>"
      ]
    },
    {
      "cell_type": "code",
      "metadata": {
        "id": "LWTBlfyexj42"
      },
      "source": [
        "import numpy as np\n",
        "import datetime\n",
        "import pandas_datareader as web\n",
        "import pandas as pd\n",
        "import seaborn as sb\n",
        "import math\n",
        "import matplotlib.pyplot as plt\n",
        "%matplotlib inline\n",
        "from matplotlib import style\n",
        "import matplotlib as mpl\n",
        "from sklearn.linear_model import LinearRegression\n",
        "from sklearn.model_selection import train_test_split\n",
        "from sklearn.metrics import mean_squared_error\n",
        "from sklearn.metrics import r2_score\n",
        "from sklearn import preprocessing"
      ],
      "execution_count": 181,
      "outputs": []
    },
    {
      "cell_type": "code",
      "metadata": {
        "colab": {
          "base_uri": "https://localhost:8080/",
          "height": 373
        },
        "id": "ZgH9-grKzRqe",
        "outputId": "34bb54d1-54b3-4d98-95ef-b8296e6f94ca"
      },
      "source": [
        "# pandas_datareader library allows us to connect to the website and extract data directly from internet sources in our case we are extracting data from Yahoo Finance API.\n",
        "start = datetime.datetime(2010, 1, 1)\n",
        "end = datetime.datetime(2017, 1, 11)\n",
        "# Read & display the data for Apple\n",
        "dfa = web.DataReader(\"AAPL\", 'yahoo', start, end)\n",
        "dfa.tail(10)"
      ],
      "execution_count": 182,
      "outputs": [
        {
          "output_type": "execute_result",
          "data": {
            "text/html": [
              "<div>\n",
              "<style scoped>\n",
              "    .dataframe tbody tr th:only-of-type {\n",
              "        vertical-align: middle;\n",
              "    }\n",
              "\n",
              "    .dataframe tbody tr th {\n",
              "        vertical-align: top;\n",
              "    }\n",
              "\n",
              "    .dataframe thead th {\n",
              "        text-align: right;\n",
              "    }\n",
              "</style>\n",
              "<table border=\"1\" class=\"dataframe\">\n",
              "  <thead>\n",
              "    <tr style=\"text-align: right;\">\n",
              "      <th></th>\n",
              "      <th>High</th>\n",
              "      <th>Low</th>\n",
              "      <th>Open</th>\n",
              "      <th>Close</th>\n",
              "      <th>Volume</th>\n",
              "      <th>Adj Close</th>\n",
              "    </tr>\n",
              "    <tr>\n",
              "      <th>Date</th>\n",
              "      <th></th>\n",
              "      <th></th>\n",
              "      <th></th>\n",
              "      <th></th>\n",
              "      <th></th>\n",
              "      <th></th>\n",
              "    </tr>\n",
              "  </thead>\n",
              "  <tbody>\n",
              "    <tr>\n",
              "      <th>2016-12-28</th>\n",
              "      <td>29.504999</td>\n",
              "      <td>29.049999</td>\n",
              "      <td>29.379999</td>\n",
              "      <td>29.190001</td>\n",
              "      <td>83623600.0</td>\n",
              "      <td>27.420895</td>\n",
              "    </tr>\n",
              "    <tr>\n",
              "      <th>2016-12-29</th>\n",
              "      <td>29.277500</td>\n",
              "      <td>29.100000</td>\n",
              "      <td>29.112499</td>\n",
              "      <td>29.182501</td>\n",
              "      <td>60158000.0</td>\n",
              "      <td>27.413847</td>\n",
              "    </tr>\n",
              "    <tr>\n",
              "      <th>2016-12-30</th>\n",
              "      <td>29.299999</td>\n",
              "      <td>28.857500</td>\n",
              "      <td>29.162500</td>\n",
              "      <td>28.955000</td>\n",
              "      <td>122345200.0</td>\n",
              "      <td>27.200134</td>\n",
              "    </tr>\n",
              "    <tr>\n",
              "      <th>2017-01-03</th>\n",
              "      <td>29.082500</td>\n",
              "      <td>28.690001</td>\n",
              "      <td>28.950001</td>\n",
              "      <td>29.037500</td>\n",
              "      <td>115127600.0</td>\n",
              "      <td>27.277639</td>\n",
              "    </tr>\n",
              "    <tr>\n",
              "      <th>2017-01-04</th>\n",
              "      <td>29.127501</td>\n",
              "      <td>28.937500</td>\n",
              "      <td>28.962500</td>\n",
              "      <td>29.004999</td>\n",
              "      <td>84472400.0</td>\n",
              "      <td>27.247108</td>\n",
              "    </tr>\n",
              "    <tr>\n",
              "      <th>2017-01-05</th>\n",
              "      <td>29.215000</td>\n",
              "      <td>28.952499</td>\n",
              "      <td>28.980000</td>\n",
              "      <td>29.152500</td>\n",
              "      <td>88774400.0</td>\n",
              "      <td>27.385668</td>\n",
              "    </tr>\n",
              "    <tr>\n",
              "      <th>2017-01-06</th>\n",
              "      <td>29.540001</td>\n",
              "      <td>29.117500</td>\n",
              "      <td>29.195000</td>\n",
              "      <td>29.477501</td>\n",
              "      <td>127007600.0</td>\n",
              "      <td>27.690971</td>\n",
              "    </tr>\n",
              "    <tr>\n",
              "      <th>2017-01-09</th>\n",
              "      <td>29.857500</td>\n",
              "      <td>29.485001</td>\n",
              "      <td>29.487499</td>\n",
              "      <td>29.747499</td>\n",
              "      <td>134247600.0</td>\n",
              "      <td>27.944603</td>\n",
              "    </tr>\n",
              "    <tr>\n",
              "      <th>2017-01-10</th>\n",
              "      <td>29.844999</td>\n",
              "      <td>29.575001</td>\n",
              "      <td>29.692499</td>\n",
              "      <td>29.777500</td>\n",
              "      <td>97848400.0</td>\n",
              "      <td>27.972786</td>\n",
              "    </tr>\n",
              "    <tr>\n",
              "      <th>2017-01-11</th>\n",
              "      <td>29.982500</td>\n",
              "      <td>29.650000</td>\n",
              "      <td>29.684999</td>\n",
              "      <td>29.937500</td>\n",
              "      <td>110354400.0</td>\n",
              "      <td>28.123089</td>\n",
              "    </tr>\n",
              "  </tbody>\n",
              "</table>\n",
              "</div>"
            ],
            "text/plain": [
              "                 High        Low       Open      Close       Volume  Adj Close\n",
              "Date                                                                          \n",
              "2016-12-28  29.504999  29.049999  29.379999  29.190001   83623600.0  27.420895\n",
              "2016-12-29  29.277500  29.100000  29.112499  29.182501   60158000.0  27.413847\n",
              "2016-12-30  29.299999  28.857500  29.162500  28.955000  122345200.0  27.200134\n",
              "2017-01-03  29.082500  28.690001  28.950001  29.037500  115127600.0  27.277639\n",
              "2017-01-04  29.127501  28.937500  28.962500  29.004999   84472400.0  27.247108\n",
              "2017-01-05  29.215000  28.952499  28.980000  29.152500   88774400.0  27.385668\n",
              "2017-01-06  29.540001  29.117500  29.195000  29.477501  127007600.0  27.690971\n",
              "2017-01-09  29.857500  29.485001  29.487499  29.747499  134247600.0  27.944603\n",
              "2017-01-10  29.844999  29.575001  29.692499  29.777500   97848400.0  27.972786\n",
              "2017-01-11  29.982500  29.650000  29.684999  29.937500  110354400.0  28.123089"
            ]
          },
          "metadata": {
            "tags": []
          },
          "execution_count": 182
        }
      ]
    },
    {
      "cell_type": "code",
      "metadata": {
        "colab": {
          "base_uri": "https://localhost:8080/"
        },
        "id": "6Rm_87DLzct0",
        "outputId": "553da900-b8ff-4854-d8fd-328561d76898"
      },
      "source": [
        "close_px = dfa['High']\n",
        "mavg = close_px.rolling(window=100).mean()\n",
        "mavg"
      ],
      "execution_count": 183,
      "outputs": [
        {
          "output_type": "execute_result",
          "data": {
            "text/plain": [
              "Date\n",
              "2010-01-04          NaN\n",
              "2010-01-05          NaN\n",
              "2010-01-06          NaN\n",
              "2010-01-07          NaN\n",
              "2010-01-08          NaN\n",
              "                ...    \n",
              "2017-01-05    28.251025\n",
              "2017-01-06    28.272575\n",
              "2017-01-09    28.295575\n",
              "2017-01-10    28.320600\n",
              "2017-01-11    28.346425\n",
              "Name: High, Length: 1769, dtype: float64"
            ]
          },
          "metadata": {
            "tags": []
          },
          "execution_count": 183
        }
      ]
    },
    {
      "cell_type": "code",
      "metadata": {
        "colab": {
          "base_uri": "https://localhost:8080/",
          "height": 436
        },
        "id": "dPF3DUNPzf0S",
        "outputId": "93a47ee6-2864-4074-99c6-e463917b559f"
      },
      "source": [
        "mpl.rc('figure', figsize=(8, 7))\n",
        "mpl.__version__\n",
        "\n",
        "# Adjusting the style of matplotlib\n",
        "style.use('ggplot')\n",
        "\n",
        "close_px.plot(label='AAPL')\n",
        "mavg.plot(label='mavg')\n",
        "plt.legend()"
      ],
      "execution_count": 184,
      "outputs": [
        {
          "output_type": "execute_result",
          "data": {
            "text/plain": [
              "<matplotlib.legend.Legend at 0x7f41f5bb4048>"
            ]
          },
          "metadata": {
            "tags": []
          },
          "execution_count": 184
        },
        {
          "output_type": "display_data",
          "data": {
            "image/png": "[encoded data removed]",
            "text/plain": [
              "<Figure size 576x504 with 1 Axes>"
            ]
          },
          "metadata": {
            "tags": []
          }
        }
      ]
    },
    {
      "cell_type": "code",
      "metadata": {
        "colab": {
          "base_uri": "https://localhost:8080/",
          "height": 373
        },
        "id": "aU9-LIUTzlU0",
        "outputId": "a00332f2-8663-41af-e230-2e858b7c4701"
      },
      "source": [
        "# Read & display the data for Netflix\n",
        "dfn = web.DataReader(\"NFLX\", 'yahoo', start, end)\n",
        "dfn.tail(10)"
      ],
      "execution_count": 185,
      "outputs": [
        {
          "output_type": "execute_result",
          "data": {
            "text/html": [
              "<div>\n",
              "<style scoped>\n",
              "    .dataframe tbody tr th:only-of-type {\n",
              "        vertical-align: middle;\n",
              "    }\n",
              "\n",
              "    .dataframe tbody tr th {\n",
              "        vertical-align: top;\n",
              "    }\n",
              "\n",
              "    .dataframe thead th {\n",
              "        text-align: right;\n",
              "    }\n",
              "</style>\n",
              "<table border=\"1\" class=\"dataframe\">\n",
              "  <thead>\n",
              "    <tr style=\"text-align: right;\">\n",
              "      <th></th>\n",
              "      <th>High</th>\n",
              "      <th>Low</th>\n",
              "      <th>Open</th>\n",
              "      <th>Close</th>\n",
              "      <th>Volume</th>\n",
              "      <th>Adj Close</th>\n",
              "    </tr>\n",
              "    <tr>\n",
              "      <th>Date</th>\n",
              "      <th></th>\n",
              "      <th></th>\n",
              "      <th></th>\n",
              "      <th></th>\n",
              "      <th></th>\n",
              "      <th></th>\n",
              "    </tr>\n",
              "  </thead>\n",
              "  <tbody>\n",
              "    <tr>\n",
              "      <th>2016-12-28</th>\n",
              "      <td>129.070007</td>\n",
              "      <td>125.760002</td>\n",
              "      <td>129.070007</td>\n",
              "      <td>125.889999</td>\n",
              "      <td>4389200.0</td>\n",
              "      <td>125.889999</td>\n",
              "    </tr>\n",
              "    <tr>\n",
              "      <th>2016-12-29</th>\n",
              "      <td>126.139999</td>\n",
              "      <td>124.199997</td>\n",
              "      <td>125.949997</td>\n",
              "      <td>125.330002</td>\n",
              "      <td>3445100.0</td>\n",
              "      <td>125.330002</td>\n",
              "    </tr>\n",
              "    <tr>\n",
              "      <th>2016-12-30</th>\n",
              "      <td>126.570000</td>\n",
              "      <td>123.599998</td>\n",
              "      <td>126.239998</td>\n",
              "      <td>123.800003</td>\n",
              "      <td>4455400.0</td>\n",
              "      <td>123.800003</td>\n",
              "    </tr>\n",
              "    <tr>\n",
              "      <th>2017-01-03</th>\n",
              "      <td>128.190002</td>\n",
              "      <td>124.309998</td>\n",
              "      <td>124.959999</td>\n",
              "      <td>127.489998</td>\n",
              "      <td>9437900.0</td>\n",
              "      <td>127.489998</td>\n",
              "    </tr>\n",
              "    <tr>\n",
              "      <th>2017-01-04</th>\n",
              "      <td>130.169998</td>\n",
              "      <td>126.550003</td>\n",
              "      <td>127.489998</td>\n",
              "      <td>129.410004</td>\n",
              "      <td>7843600.0</td>\n",
              "      <td>129.410004</td>\n",
              "    </tr>\n",
              "    <tr>\n",
              "      <th>2017-01-05</th>\n",
              "      <td>132.750000</td>\n",
              "      <td>128.899994</td>\n",
              "      <td>129.220001</td>\n",
              "      <td>131.809998</td>\n",
              "      <td>10185500.0</td>\n",
              "      <td>131.809998</td>\n",
              "    </tr>\n",
              "    <tr>\n",
              "      <th>2017-01-06</th>\n",
              "      <td>133.880005</td>\n",
              "      <td>129.809998</td>\n",
              "      <td>132.080002</td>\n",
              "      <td>131.070007</td>\n",
              "      <td>10657900.0</td>\n",
              "      <td>131.070007</td>\n",
              "    </tr>\n",
              "    <tr>\n",
              "      <th>2017-01-09</th>\n",
              "      <td>131.990005</td>\n",
              "      <td>129.889999</td>\n",
              "      <td>131.479996</td>\n",
              "      <td>130.949997</td>\n",
              "      <td>5771800.0</td>\n",
              "      <td>130.949997</td>\n",
              "    </tr>\n",
              "    <tr>\n",
              "      <th>2017-01-10</th>\n",
              "      <td>132.220001</td>\n",
              "      <td>129.289993</td>\n",
              "      <td>131.270004</td>\n",
              "      <td>129.889999</td>\n",
              "      <td>5985800.0</td>\n",
              "      <td>129.889999</td>\n",
              "    </tr>\n",
              "    <tr>\n",
              "      <th>2017-01-11</th>\n",
              "      <td>131.500000</td>\n",
              "      <td>129.250000</td>\n",
              "      <td>130.910004</td>\n",
              "      <td>130.500000</td>\n",
              "      <td>5615100.0</td>\n",
              "      <td>130.500000</td>\n",
              "    </tr>\n",
              "  </tbody>\n",
              "</table>\n",
              "</div>"
            ],
            "text/plain": [
              "                  High         Low  ...      Volume   Adj Close\n",
              "Date                                ...                        \n",
              "2016-12-28  129.070007  125.760002  ...   4389200.0  125.889999\n",
              "2016-12-29  126.139999  124.199997  ...   3445100.0  125.330002\n",
              "2016-12-30  126.570000  123.599998  ...   4455400.0  123.800003\n",
              "2017-01-03  128.190002  124.309998  ...   9437900.0  127.489998\n",
              "2017-01-04  130.169998  126.550003  ...   7843600.0  129.410004\n",
              "2017-01-05  132.750000  128.899994  ...  10185500.0  131.809998\n",
              "2017-01-06  133.880005  129.809998  ...  10657900.0  131.070007\n",
              "2017-01-09  131.990005  129.889999  ...   5771800.0  130.949997\n",
              "2017-01-10  132.220001  129.289993  ...   5985800.0  129.889999\n",
              "2017-01-11  131.500000  129.250000  ...   5615100.0  130.500000\n",
              "\n",
              "[10 rows x 6 columns]"
            ]
          },
          "metadata": {
            "tags": []
          },
          "execution_count": 185
        }
      ]
    },
    {
      "cell_type": "code",
      "metadata": {
        "colab": {
          "base_uri": "https://localhost:8080/",
          "height": 373
        },
        "id": "WRTM1C46znE4",
        "outputId": "3847b22c-cd89-4f9a-d4e9-7e8e279fdb94"
      },
      "source": [
        "# Read & display the data for Microsoft\n",
        "dfm = web.DataReader(\"MSFT\", 'yahoo', start, end)\n",
        "dfm.tail(10)"
      ],
      "execution_count": 186,
      "outputs": [
        {
          "output_type": "execute_result",
          "data": {
            "text/html": [
              "<div>\n",
              "<style scoped>\n",
              "    .dataframe tbody tr th:only-of-type {\n",
              "        vertical-align: middle;\n",
              "    }\n",
              "\n",
              "    .dataframe tbody tr th {\n",
              "        vertical-align: top;\n",
              "    }\n",
              "\n",
              "    .dataframe thead th {\n",
              "        text-align: right;\n",
              "    }\n",
              "</style>\n",
              "<table border=\"1\" class=\"dataframe\">\n",
              "  <thead>\n",
              "    <tr style=\"text-align: right;\">\n",
              "      <th></th>\n",
              "      <th>High</th>\n",
              "      <th>Low</th>\n",
              "      <th>Open</th>\n",
              "      <th>Close</th>\n",
              "      <th>Volume</th>\n",
              "      <th>Adj Close</th>\n",
              "    </tr>\n",
              "    <tr>\n",
              "      <th>Date</th>\n",
              "      <th></th>\n",
              "      <th></th>\n",
              "      <th></th>\n",
              "      <th></th>\n",
              "      <th></th>\n",
              "      <th></th>\n",
              "    </tr>\n",
              "  </thead>\n",
              "  <tbody>\n",
              "    <tr>\n",
              "      <th>2016-12-28</th>\n",
              "      <td>63.400002</td>\n",
              "      <td>62.830002</td>\n",
              "      <td>63.400002</td>\n",
              "      <td>62.990002</td>\n",
              "      <td>14653300.0</td>\n",
              "      <td>59.057655</td>\n",
              "    </tr>\n",
              "    <tr>\n",
              "      <th>2016-12-29</th>\n",
              "      <td>63.200001</td>\n",
              "      <td>62.730000</td>\n",
              "      <td>62.860001</td>\n",
              "      <td>62.900002</td>\n",
              "      <td>10250600.0</td>\n",
              "      <td>58.973270</td>\n",
              "    </tr>\n",
              "    <tr>\n",
              "      <th>2016-12-30</th>\n",
              "      <td>62.990002</td>\n",
              "      <td>62.029999</td>\n",
              "      <td>62.959999</td>\n",
              "      <td>62.139999</td>\n",
              "      <td>25579900.0</td>\n",
              "      <td>58.260712</td>\n",
              "    </tr>\n",
              "    <tr>\n",
              "      <th>2017-01-03</th>\n",
              "      <td>62.840000</td>\n",
              "      <td>62.130001</td>\n",
              "      <td>62.790001</td>\n",
              "      <td>62.580002</td>\n",
              "      <td>20694100.0</td>\n",
              "      <td>58.673244</td>\n",
              "    </tr>\n",
              "    <tr>\n",
              "      <th>2017-01-04</th>\n",
              "      <td>62.750000</td>\n",
              "      <td>62.119999</td>\n",
              "      <td>62.480000</td>\n",
              "      <td>62.299999</td>\n",
              "      <td>21340000.0</td>\n",
              "      <td>58.410725</td>\n",
              "    </tr>\n",
              "    <tr>\n",
              "      <th>2017-01-05</th>\n",
              "      <td>62.660000</td>\n",
              "      <td>62.029999</td>\n",
              "      <td>62.189999</td>\n",
              "      <td>62.299999</td>\n",
              "      <td>24876000.0</td>\n",
              "      <td>58.410725</td>\n",
              "    </tr>\n",
              "    <tr>\n",
              "      <th>2017-01-06</th>\n",
              "      <td>63.150002</td>\n",
              "      <td>62.040001</td>\n",
              "      <td>62.299999</td>\n",
              "      <td>62.840000</td>\n",
              "      <td>19922900.0</td>\n",
              "      <td>58.917015</td>\n",
              "    </tr>\n",
              "    <tr>\n",
              "      <th>2017-01-09</th>\n",
              "      <td>63.080002</td>\n",
              "      <td>62.540001</td>\n",
              "      <td>62.759998</td>\n",
              "      <td>62.639999</td>\n",
              "      <td>20382700.0</td>\n",
              "      <td>58.729496</td>\n",
              "    </tr>\n",
              "    <tr>\n",
              "      <th>2017-01-10</th>\n",
              "      <td>63.070000</td>\n",
              "      <td>62.279999</td>\n",
              "      <td>62.730000</td>\n",
              "      <td>62.619999</td>\n",
              "      <td>18593000.0</td>\n",
              "      <td>58.710747</td>\n",
              "    </tr>\n",
              "    <tr>\n",
              "      <th>2017-01-11</th>\n",
              "      <td>63.230000</td>\n",
              "      <td>62.430000</td>\n",
              "      <td>62.610001</td>\n",
              "      <td>63.189999</td>\n",
              "      <td>21517300.0</td>\n",
              "      <td>59.245159</td>\n",
              "    </tr>\n",
              "  </tbody>\n",
              "</table>\n",
              "</div>"
            ],
            "text/plain": [
              "                 High        Low       Open      Close      Volume  Adj Close\n",
              "Date                                                                         \n",
              "2016-12-28  63.400002  62.830002  63.400002  62.990002  14653300.0  59.057655\n",
              "2016-12-29  63.200001  62.730000  62.860001  62.900002  10250600.0  58.973270\n",
              "2016-12-30  62.990002  62.029999  62.959999  62.139999  25579900.0  58.260712\n",
              "2017-01-03  62.840000  62.130001  62.790001  62.580002  20694100.0  58.673244\n",
              "2017-01-04  62.750000  62.119999  62.480000  62.299999  21340000.0  58.410725\n",
              "2017-01-05  62.660000  62.029999  62.189999  62.299999  24876000.0  58.410725\n",
              "2017-01-06  63.150002  62.040001  62.299999  62.840000  19922900.0  58.917015\n",
              "2017-01-09  63.080002  62.540001  62.759998  62.639999  20382700.0  58.729496\n",
              "2017-01-10  63.070000  62.279999  62.730000  62.619999  18593000.0  58.710747\n",
              "2017-01-11  63.230000  62.430000  62.610001  63.189999  21517300.0  59.245159"
            ]
          },
          "metadata": {
            "tags": []
          },
          "execution_count": 186
        }
      ]
    },
    {
      "cell_type": "code",
      "metadata": {
        "colab": {
          "base_uri": "https://localhost:8080/",
          "height": 373
        },
        "id": "YArvY915z5en",
        "outputId": "e5cfc822-19d0-410f-8924-6036cd562444"
      },
      "source": [
        "# Read & display the data for Google\n",
        "dfg = web.DataReader(\"GOOG\", 'yahoo', start, end)\n",
        "dfg.tail(10)"
      ],
      "execution_count": 187,
      "outputs": [
        {
          "output_type": "execute_result",
          "data": {
            "text/html": [
              "<div>\n",
              "<style scoped>\n",
              "    .dataframe tbody tr th:only-of-type {\n",
              "        vertical-align: middle;\n",
              "    }\n",
              "\n",
              "    .dataframe tbody tr th {\n",
              "        vertical-align: top;\n",
              "    }\n",
              "\n",
              "    .dataframe thead th {\n",
              "        text-align: right;\n",
              "    }\n",
              "</style>\n",
              "<table border=\"1\" class=\"dataframe\">\n",
              "  <thead>\n",
              "    <tr style=\"text-align: right;\">\n",
              "      <th></th>\n",
              "      <th>High</th>\n",
              "      <th>Low</th>\n",
              "      <th>Open</th>\n",
              "      <th>Close</th>\n",
              "      <th>Volume</th>\n",
              "      <th>Adj Close</th>\n",
              "    </tr>\n",
              "    <tr>\n",
              "      <th>Date</th>\n",
              "      <th></th>\n",
              "      <th></th>\n",
              "      <th></th>\n",
              "      <th></th>\n",
              "      <th></th>\n",
              "      <th></th>\n",
              "    </tr>\n",
              "  </thead>\n",
              "  <tbody>\n",
              "    <tr>\n",
              "      <th>2016-12-28</th>\n",
              "      <td>794.229980</td>\n",
              "      <td>783.200012</td>\n",
              "      <td>793.700012</td>\n",
              "      <td>785.049988</td>\n",
              "      <td>1153800.0</td>\n",
              "      <td>785.049988</td>\n",
              "    </tr>\n",
              "    <tr>\n",
              "      <th>2016-12-29</th>\n",
              "      <td>785.929993</td>\n",
              "      <td>778.919983</td>\n",
              "      <td>783.330017</td>\n",
              "      <td>782.789978</td>\n",
              "      <td>744300.0</td>\n",
              "      <td>782.789978</td>\n",
              "    </tr>\n",
              "    <tr>\n",
              "      <th>2016-12-30</th>\n",
              "      <td>782.780029</td>\n",
              "      <td>770.409973</td>\n",
              "      <td>782.750000</td>\n",
              "      <td>771.820007</td>\n",
              "      <td>1770000.0</td>\n",
              "      <td>771.820007</td>\n",
              "    </tr>\n",
              "    <tr>\n",
              "      <th>2017-01-03</th>\n",
              "      <td>789.630005</td>\n",
              "      <td>775.799988</td>\n",
              "      <td>778.809998</td>\n",
              "      <td>786.140015</td>\n",
              "      <td>1657300.0</td>\n",
              "      <td>786.140015</td>\n",
              "    </tr>\n",
              "    <tr>\n",
              "      <th>2017-01-04</th>\n",
              "      <td>791.340027</td>\n",
              "      <td>783.159973</td>\n",
              "      <td>788.359985</td>\n",
              "      <td>786.900024</td>\n",
              "      <td>1073000.0</td>\n",
              "      <td>786.900024</td>\n",
              "    </tr>\n",
              "    <tr>\n",
              "      <th>2017-01-05</th>\n",
              "      <td>794.479980</td>\n",
              "      <td>785.020020</td>\n",
              "      <td>786.080017</td>\n",
              "      <td>794.020020</td>\n",
              "      <td>1335200.0</td>\n",
              "      <td>794.020020</td>\n",
              "    </tr>\n",
              "    <tr>\n",
              "      <th>2017-01-06</th>\n",
              "      <td>807.900024</td>\n",
              "      <td>792.203979</td>\n",
              "      <td>795.260010</td>\n",
              "      <td>806.150024</td>\n",
              "      <td>1640200.0</td>\n",
              "      <td>806.150024</td>\n",
              "    </tr>\n",
              "    <tr>\n",
              "      <th>2017-01-09</th>\n",
              "      <td>809.966003</td>\n",
              "      <td>802.830017</td>\n",
              "      <td>806.400024</td>\n",
              "      <td>806.650024</td>\n",
              "      <td>1274600.0</td>\n",
              "      <td>806.650024</td>\n",
              "    </tr>\n",
              "    <tr>\n",
              "      <th>2017-01-10</th>\n",
              "      <td>809.130005</td>\n",
              "      <td>803.510010</td>\n",
              "      <td>807.859985</td>\n",
              "      <td>804.789978</td>\n",
              "      <td>1176800.0</td>\n",
              "      <td>804.789978</td>\n",
              "    </tr>\n",
              "    <tr>\n",
              "      <th>2017-01-11</th>\n",
              "      <td>808.150024</td>\n",
              "      <td>801.369995</td>\n",
              "      <td>805.000000</td>\n",
              "      <td>807.909973</td>\n",
              "      <td>1065900.0</td>\n",
              "      <td>807.909973</td>\n",
              "    </tr>\n",
              "  </tbody>\n",
              "</table>\n",
              "</div>"
            ],
            "text/plain": [
              "                  High         Low  ...     Volume   Adj Close\n",
              "Date                                ...                       \n",
              "2016-12-28  794.229980  783.200012  ...  1153800.0  785.049988\n",
              "2016-12-29  785.929993  778.919983  ...   744300.0  782.789978\n",
              "2016-12-30  782.780029  770.409973  ...  1770000.0  771.820007\n",
              "2017-01-03  789.630005  775.799988  ...  1657300.0  786.140015\n",
              "2017-01-04  791.340027  783.159973  ...  1073000.0  786.900024\n",
              "2017-01-05  794.479980  785.020020  ...  1335200.0  794.020020\n",
              "2017-01-06  807.900024  792.203979  ...  1640200.0  806.150024\n",
              "2017-01-09  809.966003  802.830017  ...  1274600.0  806.650024\n",
              "2017-01-10  809.130005  803.510010  ...  1176800.0  804.789978\n",
              "2017-01-11  808.150024  801.369995  ...  1065900.0  807.909973\n",
              "\n",
              "[10 rows x 6 columns]"
            ]
          },
          "metadata": {
            "tags": []
          },
          "execution_count": 187
        }
      ]
    },
    {
      "cell_type": "code",
      "metadata": {
        "colab": {
          "base_uri": "https://localhost:8080/",
          "height": 402
        },
        "id": "o2zO--GTz8ZJ",
        "outputId": "cd2836d1-dbe6-4381-8d55-4d6d89298775"
      },
      "source": [
        "# Pandas reset_index() is a method to reset index of a Data Frame. reset_index() method sets a list of integer ranging from 0 to length of data as index.\n",
        "dfa.reset_index(inplace=True)\n",
        "dfn.reset_index(inplace=True)\n",
        "dfm.reset_index(inplace=True)\n",
        "dfg.reset_index(inplace=True)\n",
        "dfa"
      ],
      "execution_count": 188,
      "outputs": [
        {
          "output_type": "execute_result",
          "data": {
            "text/html": [
              "<div>\n",
              "<style scoped>\n",
              "    .dataframe tbody tr th:only-of-type {\n",
              "        vertical-align: middle;\n",
              "    }\n",
              "\n",
              "    .dataframe tbody tr th {\n",
              "        vertical-align: top;\n",
              "    }\n",
              "\n",
              "    .dataframe thead th {\n",
              "        text-align: right;\n",
              "    }\n",
              "</style>\n",
              "<table border=\"1\" class=\"dataframe\">\n",
              "  <thead>\n",
              "    <tr style=\"text-align: right;\">\n",
              "      <th></th>\n",
              "      <th>Date</th>\n",
              "      <th>High</th>\n",
              "      <th>Low</th>\n",
              "      <th>Open</th>\n",
              "      <th>Close</th>\n",
              "      <th>Volume</th>\n",
              "      <th>Adj Close</th>\n",
              "    </tr>\n",
              "  </thead>\n",
              "  <tbody>\n",
              "    <tr>\n",
              "      <th>0</th>\n",
              "      <td>2010-01-04</td>\n",
              "      <td>7.660714</td>\n",
              "      <td>7.585000</td>\n",
              "      <td>7.622500</td>\n",
              "      <td>7.643214</td>\n",
              "      <td>493729600.0</td>\n",
              "      <td>6.539882</td>\n",
              "    </tr>\n",
              "    <tr>\n",
              "      <th>1</th>\n",
              "      <td>2010-01-05</td>\n",
              "      <td>7.699643</td>\n",
              "      <td>7.616071</td>\n",
              "      <td>7.664286</td>\n",
              "      <td>7.656428</td>\n",
              "      <td>601904800.0</td>\n",
              "      <td>6.551187</td>\n",
              "    </tr>\n",
              "    <tr>\n",
              "      <th>2</th>\n",
              "      <td>2010-01-06</td>\n",
              "      <td>7.686786</td>\n",
              "      <td>7.526786</td>\n",
              "      <td>7.656428</td>\n",
              "      <td>7.534643</td>\n",
              "      <td>552160000.0</td>\n",
              "      <td>6.446983</td>\n",
              "    </tr>\n",
              "    <tr>\n",
              "      <th>3</th>\n",
              "      <td>2010-01-07</td>\n",
              "      <td>7.571429</td>\n",
              "      <td>7.466072</td>\n",
              "      <td>7.562500</td>\n",
              "      <td>7.520714</td>\n",
              "      <td>477131200.0</td>\n",
              "      <td>6.435065</td>\n",
              "    </tr>\n",
              "    <tr>\n",
              "      <th>4</th>\n",
              "      <td>2010-01-08</td>\n",
              "      <td>7.571429</td>\n",
              "      <td>7.466429</td>\n",
              "      <td>7.510714</td>\n",
              "      <td>7.570714</td>\n",
              "      <td>447610800.0</td>\n",
              "      <td>6.477847</td>\n",
              "    </tr>\n",
              "    <tr>\n",
              "      <th>...</th>\n",
              "      <td>...</td>\n",
              "      <td>...</td>\n",
              "      <td>...</td>\n",
              "      <td>...</td>\n",
              "      <td>...</td>\n",
              "      <td>...</td>\n",
              "      <td>...</td>\n",
              "    </tr>\n",
              "    <tr>\n",
              "      <th>1764</th>\n",
              "      <td>2017-01-05</td>\n",
              "      <td>29.215000</td>\n",
              "      <td>28.952499</td>\n",
              "      <td>28.980000</td>\n",
              "      <td>29.152500</td>\n",
              "      <td>88774400.0</td>\n",
              "      <td>27.385668</td>\n",
              "    </tr>\n",
              "    <tr>\n",
              "      <th>1765</th>\n",
              "      <td>2017-01-06</td>\n",
              "      <td>29.540001</td>\n",
              "      <td>29.117500</td>\n",
              "      <td>29.195000</td>\n",
              "      <td>29.477501</td>\n",
              "      <td>127007600.0</td>\n",
              "      <td>27.690971</td>\n",
              "    </tr>\n",
              "    <tr>\n",
              "      <th>1766</th>\n",
              "      <td>2017-01-09</td>\n",
              "      <td>29.857500</td>\n",
              "      <td>29.485001</td>\n",
              "      <td>29.487499</td>\n",
              "      <td>29.747499</td>\n",
              "      <td>134247600.0</td>\n",
              "      <td>27.944603</td>\n",
              "    </tr>\n",
              "    <tr>\n",
              "      <th>1767</th>\n",
              "      <td>2017-01-10</td>\n",
              "      <td>29.844999</td>\n",
              "      <td>29.575001</td>\n",
              "      <td>29.692499</td>\n",
              "      <td>29.777500</td>\n",
              "      <td>97848400.0</td>\n",
              "      <td>27.972786</td>\n",
              "    </tr>\n",
              "    <tr>\n",
              "      <th>1768</th>\n",
              "      <td>2017-01-11</td>\n",
              "      <td>29.982500</td>\n",
              "      <td>29.650000</td>\n",
              "      <td>29.684999</td>\n",
              "      <td>29.937500</td>\n",
              "      <td>110354400.0</td>\n",
              "      <td>28.123089</td>\n",
              "    </tr>\n",
              "  </tbody>\n",
              "</table>\n",
              "<p>1769 rows × 7 columns</p>\n",
              "</div>"
            ],
            "text/plain": [
              "           Date       High        Low  ...      Close       Volume  Adj Close\n",
              "0    2010-01-04   7.660714   7.585000  ...   7.643214  493729600.0   6.539882\n",
              "1    2010-01-05   7.699643   7.616071  ...   7.656428  601904800.0   6.551187\n",
              "2    2010-01-06   7.686786   7.526786  ...   7.534643  552160000.0   6.446983\n",
              "3    2010-01-07   7.571429   7.466072  ...   7.520714  477131200.0   6.435065\n",
              "4    2010-01-08   7.571429   7.466429  ...   7.570714  447610800.0   6.477847\n",
              "...         ...        ...        ...  ...        ...          ...        ...\n",
              "1764 2017-01-05  29.215000  28.952499  ...  29.152500   88774400.0  27.385668\n",
              "1765 2017-01-06  29.540001  29.117500  ...  29.477501  127007600.0  27.690971\n",
              "1766 2017-01-09  29.857500  29.485001  ...  29.747499  134247600.0  27.944603\n",
              "1767 2017-01-10  29.844999  29.575001  ...  29.777500   97848400.0  27.972786\n",
              "1768 2017-01-11  29.982500  29.650000  ...  29.937500  110354400.0  28.123089\n",
              "\n",
              "[1769 rows x 7 columns]"
            ]
          },
          "metadata": {
            "tags": []
          },
          "execution_count": 188
        }
      ]
    },
    {
      "cell_type": "code",
      "metadata": {
        "colab": {
          "base_uri": "https://localhost:8080/",
          "height": 284
        },
        "id": "VU6v5znY0ACP",
        "outputId": "7c02a922-2082-40b5-cb56-454ccd91dba6"
      },
      "source": [
        "# Pandas describe() is used to view some basic statistical details like percentile, mean, std etc. of a data frame or a series of numeric values.\n",
        "dfa.describe()"
      ],
      "execution_count": 189,
      "outputs": [
        {
          "output_type": "execute_result",
          "data": {
            "text/html": [
              "<div>\n",
              "<style scoped>\n",
              "    .dataframe tbody tr th:only-of-type {\n",
              "        vertical-align: middle;\n",
              "    }\n",
              "\n",
              "    .dataframe tbody tr th {\n",
              "        vertical-align: top;\n",
              "    }\n",
              "\n",
              "    .dataframe thead th {\n",
              "        text-align: right;\n",
              "    }\n",
              "</style>\n",
              "<table border=\"1\" class=\"dataframe\">\n",
              "  <thead>\n",
              "    <tr style=\"text-align: right;\">\n",
              "      <th></th>\n",
              "      <th>High</th>\n",
              "      <th>Low</th>\n",
              "      <th>Open</th>\n",
              "      <th>Close</th>\n",
              "      <th>Volume</th>\n",
              "      <th>Adj Close</th>\n",
              "    </tr>\n",
              "  </thead>\n",
              "  <tbody>\n",
              "    <tr>\n",
              "      <th>count</th>\n",
              "      <td>1769.000000</td>\n",
              "      <td>1769.000000</td>\n",
              "      <td>1769.000000</td>\n",
              "      <td>1769.000000</td>\n",
              "      <td>1.769000e+03</td>\n",
              "      <td>1769.000000</td>\n",
              "    </tr>\n",
              "    <tr>\n",
              "      <th>mean</th>\n",
              "      <td>20.072649</td>\n",
              "      <td>19.697763</td>\n",
              "      <td>19.894219</td>\n",
              "      <td>19.888647</td>\n",
              "      <td>3.758507e+08</td>\n",
              "      <td>17.729864</td>\n",
              "    </tr>\n",
              "    <tr>\n",
              "      <th>std</th>\n",
              "      <td>7.150999</td>\n",
              "      <td>7.038787</td>\n",
              "      <td>7.095451</td>\n",
              "      <td>7.094345</td>\n",
              "      <td>2.409303e+08</td>\n",
              "      <td>6.755639</td>\n",
              "    </tr>\n",
              "    <tr>\n",
              "      <th>min</th>\n",
              "      <td>7.000000</td>\n",
              "      <td>6.794643</td>\n",
              "      <td>6.870357</td>\n",
              "      <td>6.858929</td>\n",
              "      <td>4.590360e+07</td>\n",
              "      <td>5.868809</td>\n",
              "    </tr>\n",
              "    <tr>\n",
              "      <th>25%</th>\n",
              "      <td>13.994286</td>\n",
              "      <td>13.714286</td>\n",
              "      <td>13.863571</td>\n",
              "      <td>13.886071</td>\n",
              "      <td>1.958040e+08</td>\n",
              "      <td>11.881549</td>\n",
              "    </tr>\n",
              "    <tr>\n",
              "      <th>50%</th>\n",
              "      <td>19.888929</td>\n",
              "      <td>19.457857</td>\n",
              "      <td>19.768572</td>\n",
              "      <td>19.686787</td>\n",
              "      <td>3.218404e+08</td>\n",
              "      <td>17.254862</td>\n",
              "    </tr>\n",
              "    <tr>\n",
              "      <th>75%</th>\n",
              "      <td>26.342501</td>\n",
              "      <td>25.782499</td>\n",
              "      <td>26.020000</td>\n",
              "      <td>26.084999</td>\n",
              "      <td>4.837532e+08</td>\n",
              "      <td>23.924532</td>\n",
              "    </tr>\n",
              "    <tr>\n",
              "      <th>max</th>\n",
              "      <td>33.634998</td>\n",
              "      <td>32.849998</td>\n",
              "      <td>33.615002</td>\n",
              "      <td>33.250000</td>\n",
              "      <td>1.880998e+09</td>\n",
              "      <td>30.182924</td>\n",
              "    </tr>\n",
              "  </tbody>\n",
              "</table>\n",
              "</div>"
            ],
            "text/plain": [
              "              High          Low  ...        Volume    Adj Close\n",
              "count  1769.000000  1769.000000  ...  1.769000e+03  1769.000000\n",
              "mean     20.072649    19.697763  ...  3.758507e+08    17.729864\n",
              "std       7.150999     7.038787  ...  2.409303e+08     6.755639\n",
              "min       7.000000     6.794643  ...  4.590360e+07     5.868809\n",
              "25%      13.994286    13.714286  ...  1.958040e+08    11.881549\n",
              "50%      19.888929    19.457857  ...  3.218404e+08    17.254862\n",
              "75%      26.342501    25.782499  ...  4.837532e+08    23.924532\n",
              "max      33.634998    32.849998  ...  1.880998e+09    30.182924\n",
              "\n",
              "[8 rows x 6 columns]"
            ]
          },
          "metadata": {
            "tags": []
          },
          "execution_count": 189
        }
      ]
    },
    {
      "cell_type": "code",
      "metadata": {
        "colab": {
          "base_uri": "https://localhost:8080/",
          "height": 284
        },
        "id": "HpmQWiIf0CZ2",
        "outputId": "849c093c-b299-43d6-eb3a-96c56692a3d8"
      },
      "source": [
        "dfn.describe()\n",
        "dfm.describe()\n",
        "dfg.describe()"
      ],
      "execution_count": 190,
      "outputs": [
        {
          "output_type": "execute_result",
          "data": {
            "text/html": [
              "<div>\n",
              "<style scoped>\n",
              "    .dataframe tbody tr th:only-of-type {\n",
              "        vertical-align: middle;\n",
              "    }\n",
              "\n",
              "    .dataframe tbody tr th {\n",
              "        vertical-align: top;\n",
              "    }\n",
              "\n",
              "    .dataframe thead th {\n",
              "        text-align: right;\n",
              "    }\n",
              "</style>\n",
              "<table border=\"1\" class=\"dataframe\">\n",
              "  <thead>\n",
              "    <tr style=\"text-align: right;\">\n",
              "      <th></th>\n",
              "      <th>High</th>\n",
              "      <th>Low</th>\n",
              "      <th>Open</th>\n",
              "      <th>Close</th>\n",
              "      <th>Volume</th>\n",
              "      <th>Adj Close</th>\n",
              "    </tr>\n",
              "  </thead>\n",
              "  <tbody>\n",
              "    <tr>\n",
              "      <th>count</th>\n",
              "      <td>1769.000000</td>\n",
              "      <td>1769.000000</td>\n",
              "      <td>1769.000000</td>\n",
              "      <td>1769.000000</td>\n",
              "      <td>1.769000e+03</td>\n",
              "      <td>1769.000000</td>\n",
              "    </tr>\n",
              "    <tr>\n",
              "      <th>mean</th>\n",
              "      <td>464.821137</td>\n",
              "      <td>456.989344</td>\n",
              "      <td>461.133735</td>\n",
              "      <td>460.959376</td>\n",
              "      <td>4.040736e+06</td>\n",
              "      <td>460.959376</td>\n",
              "    </tr>\n",
              "    <tr>\n",
              "      <th>std</th>\n",
              "      <td>176.169983</td>\n",
              "      <td>173.550725</td>\n",
              "      <td>174.956705</td>\n",
              "      <td>174.905273</td>\n",
              "      <td>2.932247e+06</td>\n",
              "      <td>174.905273</td>\n",
              "    </tr>\n",
              "    <tr>\n",
              "      <th>min</th>\n",
              "      <td>220.314209</td>\n",
              "      <td>216.005356</td>\n",
              "      <td>218.336624</td>\n",
              "      <td>217.220810</td>\n",
              "      <td>7.900000e+03</td>\n",
              "      <td>217.220810</td>\n",
              "    </tr>\n",
              "    <tr>\n",
              "      <th>25%</th>\n",
              "      <td>301.101410</td>\n",
              "      <td>295.910858</td>\n",
              "      <td>298.615723</td>\n",
              "      <td>298.575867</td>\n",
              "      <td>1.885500e+06</td>\n",
              "      <td>298.575867</td>\n",
              "    </tr>\n",
              "    <tr>\n",
              "      <th>50%</th>\n",
              "      <td>439.726807</td>\n",
              "      <td>434.904877</td>\n",
              "      <td>437.275970</td>\n",
              "      <td>437.126556</td>\n",
              "      <td>3.628100e+06</td>\n",
              "      <td>437.126556</td>\n",
              "    </tr>\n",
              "    <tr>\n",
              "      <th>75%</th>\n",
              "      <td>582.909607</td>\n",
              "      <td>573.500366</td>\n",
              "      <td>579.409241</td>\n",
              "      <td>579.419189</td>\n",
              "      <td>5.140300e+06</td>\n",
              "      <td>579.419189</td>\n",
              "    </tr>\n",
              "    <tr>\n",
              "      <th>max</th>\n",
              "      <td>816.679993</td>\n",
              "      <td>805.140015</td>\n",
              "      <td>816.679993</td>\n",
              "      <td>813.109985</td>\n",
              "      <td>2.976060e+07</td>\n",
              "      <td>813.109985</td>\n",
              "    </tr>\n",
              "  </tbody>\n",
              "</table>\n",
              "</div>"
            ],
            "text/plain": [
              "              High          Low  ...        Volume    Adj Close\n",
              "count  1769.000000  1769.000000  ...  1.769000e+03  1769.000000\n",
              "mean    464.821137   456.989344  ...  4.040736e+06   460.959376\n",
              "std     176.169983   173.550725  ...  2.932247e+06   174.905273\n",
              "min     220.314209   216.005356  ...  7.900000e+03   217.220810\n",
              "25%     301.101410   295.910858  ...  1.885500e+06   298.575867\n",
              "50%     439.726807   434.904877  ...  3.628100e+06   437.126556\n",
              "75%     582.909607   573.500366  ...  5.140300e+06   579.419189\n",
              "max     816.679993   805.140015  ...  2.976060e+07   813.109985\n",
              "\n",
              "[8 rows x 6 columns]"
            ]
          },
          "metadata": {
            "tags": []
          },
          "execution_count": 190
        }
      ]
    },
    {
      "cell_type": "code",
      "metadata": {
        "colab": {
          "base_uri": "https://localhost:8080/",
          "height": 225
        },
        "id": "be56qBiB0L8i",
        "outputId": "25a0d72c-1a37-42f1-9a12-09a5c03aa85f"
      },
      "source": [
        "# Correlation is a measure of association or dependency between two features i.e. how much Y will vary with a variation in X. The correlation method that we will use is the Pearson Correlation.\n",
        "# this is the correlation of apple stock with its features like high ,low etc.\n",
        "corra = dfa.corr(method='pearson')\n",
        "corra"
      ],
      "execution_count": 191,
      "outputs": [
        {
          "output_type": "execute_result",
          "data": {
            "text/html": [
              "<div>\n",
              "<style scoped>\n",
              "    .dataframe tbody tr th:only-of-type {\n",
              "        vertical-align: middle;\n",
              "    }\n",
              "\n",
              "    .dataframe tbody tr th {\n",
              "        vertical-align: top;\n",
              "    }\n",
              "\n",
              "    .dataframe thead th {\n",
              "        text-align: right;\n",
              "    }\n",
              "</style>\n",
              "<table border=\"1\" class=\"dataframe\">\n",
              "  <thead>\n",
              "    <tr style=\"text-align: right;\">\n",
              "      <th></th>\n",
              "      <th>High</th>\n",
              "      <th>Low</th>\n",
              "      <th>Open</th>\n",
              "      <th>Close</th>\n",
              "      <th>Volume</th>\n",
              "      <th>Adj Close</th>\n",
              "    </tr>\n",
              "  </thead>\n",
              "  <tbody>\n",
              "    <tr>\n",
              "      <th>High</th>\n",
              "      <td>1.000000</td>\n",
              "      <td>0.999512</td>\n",
              "      <td>0.999675</td>\n",
              "      <td>0.999661</td>\n",
              "      <td>-0.581044</td>\n",
              "      <td>0.997658</td>\n",
              "    </tr>\n",
              "    <tr>\n",
              "      <th>Low</th>\n",
              "      <td>0.999512</td>\n",
              "      <td>1.000000</td>\n",
              "      <td>0.999606</td>\n",
              "      <td>0.999659</td>\n",
              "      <td>-0.593990</td>\n",
              "      <td>0.997817</td>\n",
              "    </tr>\n",
              "    <tr>\n",
              "      <th>Open</th>\n",
              "      <td>0.999675</td>\n",
              "      <td>0.999606</td>\n",
              "      <td>1.000000</td>\n",
              "      <td>0.999258</td>\n",
              "      <td>-0.585167</td>\n",
              "      <td>0.997256</td>\n",
              "    </tr>\n",
              "    <tr>\n",
              "      <th>Close</th>\n",
              "      <td>0.999661</td>\n",
              "      <td>0.999659</td>\n",
              "      <td>0.999258</td>\n",
              "      <td>1.000000</td>\n",
              "      <td>-0.588024</td>\n",
              "      <td>0.998087</td>\n",
              "    </tr>\n",
              "    <tr>\n",
              "      <th>Volume</th>\n",
              "      <td>-0.581044</td>\n",
              "      <td>-0.593990</td>\n",
              "      <td>-0.585167</td>\n",
              "      <td>-0.588024</td>\n",
              "      <td>1.000000</td>\n",
              "      <td>-0.604144</td>\n",
              "    </tr>\n",
              "    <tr>\n",
              "      <th>Adj Close</th>\n",
              "      <td>0.997658</td>\n",
              "      <td>0.997817</td>\n",
              "      <td>0.997256</td>\n",
              "      <td>0.998087</td>\n",
              "      <td>-0.604144</td>\n",
              "      <td>1.000000</td>\n",
              "    </tr>\n",
              "  </tbody>\n",
              "</table>\n",
              "</div>"
            ],
            "text/plain": [
              "               High       Low      Open     Close    Volume  Adj Close\n",
              "High       1.000000  0.999512  0.999675  0.999661 -0.581044   0.997658\n",
              "Low        0.999512  1.000000  0.999606  0.999659 -0.593990   0.997817\n",
              "Open       0.999675  0.999606  1.000000  0.999258 -0.585167   0.997256\n",
              "Close      0.999661  0.999659  0.999258  1.000000 -0.588024   0.998087\n",
              "Volume    -0.581044 -0.593990 -0.585167 -0.588024  1.000000  -0.604144\n",
              "Adj Close  0.997658  0.997817  0.997256  0.998087 -0.604144   1.000000"
            ]
          },
          "metadata": {
            "tags": []
          },
          "execution_count": 191
        }
      ]
    },
    {
      "cell_type": "code",
      "metadata": {
        "colab": {
          "base_uri": "https://localhost:8080/",
          "height": 449
        },
        "id": "kBJoQy9X0X1j",
        "outputId": "9e91d8ce-2874-4d64-8cba-822a7307cbfa"
      },
      "source": [
        "# Not all text is understandable, lets visualize the correlation coefficient.\n",
        "sb.heatmap(corra,xticklabels=corra.columns, yticklabels=corra.columns,\n",
        " cmap='RdBu_r', annot=True, linewidth=0.5)"
      ],
      "execution_count": 192,
      "outputs": [
        {
          "output_type": "execute_result",
          "data": {
            "text/plain": [
              "<matplotlib.axes._subplots.AxesSubplot at 0x7f41f551de10>"
            ]
          },
          "metadata": {
            "tags": []
          },
          "execution_count": 192
        },
        {
          "output_type": "display_data",
          "data": {
            "image/png": "[encoded data removed]",
            "text/plain": [
              "<Figure size 576x504 with 2 Axes>"
            ]
          },
          "metadata": {
            "tags": []
          }
        }
      ]
    },
    {
      "cell_type": "code",
      "metadata": {
        "colab": {
          "base_uri": "https://localhost:8080/",
          "height": 431
        },
        "id": "xoTm7fOT0aTS",
        "outputId": "43253dbb-d882-42a7-f65a-2b69a107cf86"
      },
      "source": [
        "# here is the Correlation of all stocks with eachother.\n",
        "dfcomp = web.DataReader(['AAPL', 'GOOG', 'NFLX', 'MSFT'],'yahoo',start=start,end=end)['Adj Close']\n",
        "dfcomp"
      ],
      "execution_count": 193,
      "outputs": [
        {
          "output_type": "execute_result",
          "data": {
            "text/html": [
              "<div>\n",
              "<style scoped>\n",
              "    .dataframe tbody tr th:only-of-type {\n",
              "        vertical-align: middle;\n",
              "    }\n",
              "\n",
              "    .dataframe tbody tr th {\n",
              "        vertical-align: top;\n",
              "    }\n",
              "\n",
              "    .dataframe thead th {\n",
              "        text-align: right;\n",
              "    }\n",
              "</style>\n",
              "<table border=\"1\" class=\"dataframe\">\n",
              "  <thead>\n",
              "    <tr style=\"text-align: right;\">\n",
              "      <th>Symbols</th>\n",
              "      <th>AAPL</th>\n",
              "      <th>GOOG</th>\n",
              "      <th>NFLX</th>\n",
              "      <th>MSFT</th>\n",
              "    </tr>\n",
              "    <tr>\n",
              "      <th>Date</th>\n",
              "      <th></th>\n",
              "      <th></th>\n",
              "      <th></th>\n",
              "      <th></th>\n",
              "    </tr>\n",
              "  </thead>\n",
              "  <tbody>\n",
              "    <tr>\n",
              "      <th>2010-01-04</th>\n",
              "      <td>6.539882</td>\n",
              "      <td>312.204773</td>\n",
              "      <td>7.640000</td>\n",
              "      <td>24.105360</td>\n",
              "    </tr>\n",
              "    <tr>\n",
              "      <th>2010-01-05</th>\n",
              "      <td>6.551187</td>\n",
              "      <td>310.829926</td>\n",
              "      <td>7.358572</td>\n",
              "      <td>24.113148</td>\n",
              "    </tr>\n",
              "    <tr>\n",
              "      <th>2010-01-06</th>\n",
              "      <td>6.446983</td>\n",
              "      <td>302.994293</td>\n",
              "      <td>7.617143</td>\n",
              "      <td>23.965164</td>\n",
              "    </tr>\n",
              "    <tr>\n",
              "      <th>2010-01-07</th>\n",
              "      <td>6.435065</td>\n",
              "      <td>295.940735</td>\n",
              "      <td>7.485714</td>\n",
              "      <td>23.715933</td>\n",
              "    </tr>\n",
              "    <tr>\n",
              "      <th>2010-01-08</th>\n",
              "      <td>6.477847</td>\n",
              "      <td>299.885956</td>\n",
              "      <td>7.614286</td>\n",
              "      <td>23.879499</td>\n",
              "    </tr>\n",
              "    <tr>\n",
              "      <th>...</th>\n",
              "      <td>...</td>\n",
              "      <td>...</td>\n",
              "      <td>...</td>\n",
              "      <td>...</td>\n",
              "    </tr>\n",
              "    <tr>\n",
              "      <th>2017-01-05</th>\n",
              "      <td>27.385668</td>\n",
              "      <td>794.020020</td>\n",
              "      <td>131.809998</td>\n",
              "      <td>58.410725</td>\n",
              "    </tr>\n",
              "    <tr>\n",
              "      <th>2017-01-06</th>\n",
              "      <td>27.690971</td>\n",
              "      <td>806.150024</td>\n",
              "      <td>131.070007</td>\n",
              "      <td>58.917015</td>\n",
              "    </tr>\n",
              "    <tr>\n",
              "      <th>2017-01-09</th>\n",
              "      <td>27.944603</td>\n",
              "      <td>806.650024</td>\n",
              "      <td>130.949997</td>\n",
              "      <td>58.729496</td>\n",
              "    </tr>\n",
              "    <tr>\n",
              "      <th>2017-01-10</th>\n",
              "      <td>27.972786</td>\n",
              "      <td>804.789978</td>\n",
              "      <td>129.889999</td>\n",
              "      <td>58.710747</td>\n",
              "    </tr>\n",
              "    <tr>\n",
              "      <th>2017-01-11</th>\n",
              "      <td>28.123089</td>\n",
              "      <td>807.909973</td>\n",
              "      <td>130.500000</td>\n",
              "      <td>59.245159</td>\n",
              "    </tr>\n",
              "  </tbody>\n",
              "</table>\n",
              "<p>1769 rows × 4 columns</p>\n",
              "</div>"
            ],
            "text/plain": [
              "Symbols          AAPL        GOOG        NFLX       MSFT\n",
              "Date                                                    \n",
              "2010-01-04   6.539882  312.204773    7.640000  24.105360\n",
              "2010-01-05   6.551187  310.829926    7.358572  24.113148\n",
              "2010-01-06   6.446983  302.994293    7.617143  23.965164\n",
              "2010-01-07   6.435065  295.940735    7.485714  23.715933\n",
              "2010-01-08   6.477847  299.885956    7.614286  23.879499\n",
              "...               ...         ...         ...        ...\n",
              "2017-01-05  27.385668  794.020020  131.809998  58.410725\n",
              "2017-01-06  27.690971  806.150024  131.070007  58.917015\n",
              "2017-01-09  27.944603  806.650024  130.949997  58.729496\n",
              "2017-01-10  27.972786  804.789978  129.889999  58.710747\n",
              "2017-01-11  28.123089  807.909973  130.500000  59.245159\n",
              "\n",
              "[1769 rows x 4 columns]"
            ]
          },
          "metadata": {
            "tags": []
          },
          "execution_count": 193
        }
      ]
    },
    {
      "cell_type": "code",
      "metadata": {
        "colab": {
          "base_uri": "https://localhost:8080/",
          "height": 195
        },
        "id": "g4NQH8DY1XXI",
        "outputId": "0cd54271-5b30-4795-d0a6-e5d9bebfa0b3"
      },
      "source": [
        "retscomp = dfcomp.pct_change()\n",
        "\n",
        "corr = retscomp.corr()\n",
        "corr"
      ],
      "execution_count": 194,
      "outputs": [
        {
          "output_type": "execute_result",
          "data": {
            "text/html": [
              "<div>\n",
              "<style scoped>\n",
              "    .dataframe tbody tr th:only-of-type {\n",
              "        vertical-align: middle;\n",
              "    }\n",
              "\n",
              "    .dataframe tbody tr th {\n",
              "        vertical-align: top;\n",
              "    }\n",
              "\n",
              "    .dataframe thead th {\n",
              "        text-align: right;\n",
              "    }\n",
              "</style>\n",
              "<table border=\"1\" class=\"dataframe\">\n",
              "  <thead>\n",
              "    <tr style=\"text-align: right;\">\n",
              "      <th>Symbols</th>\n",
              "      <th>AAPL</th>\n",
              "      <th>GOOG</th>\n",
              "      <th>NFLX</th>\n",
              "      <th>MSFT</th>\n",
              "    </tr>\n",
              "    <tr>\n",
              "      <th>Symbols</th>\n",
              "      <th></th>\n",
              "      <th></th>\n",
              "      <th></th>\n",
              "      <th></th>\n",
              "    </tr>\n",
              "  </thead>\n",
              "  <tbody>\n",
              "    <tr>\n",
              "      <th>AAPL</th>\n",
              "      <td>1.000000</td>\n",
              "      <td>0.411693</td>\n",
              "      <td>0.151477</td>\n",
              "      <td>0.393467</td>\n",
              "    </tr>\n",
              "    <tr>\n",
              "      <th>GOOG</th>\n",
              "      <td>0.411693</td>\n",
              "      <td>1.000000</td>\n",
              "      <td>0.250983</td>\n",
              "      <td>0.472083</td>\n",
              "    </tr>\n",
              "    <tr>\n",
              "      <th>NFLX</th>\n",
              "      <td>0.151477</td>\n",
              "      <td>0.250983</td>\n",
              "      <td>1.000000</td>\n",
              "      <td>0.191288</td>\n",
              "    </tr>\n",
              "    <tr>\n",
              "      <th>MSFT</th>\n",
              "      <td>0.393467</td>\n",
              "      <td>0.472083</td>\n",
              "      <td>0.191288</td>\n",
              "      <td>1.000000</td>\n",
              "    </tr>\n",
              "  </tbody>\n",
              "</table>\n",
              "</div>"
            ],
            "text/plain": [
              "Symbols      AAPL      GOOG      NFLX      MSFT\n",
              "Symbols                                        \n",
              "AAPL     1.000000  0.411693  0.151477  0.393467\n",
              "GOOG     0.411693  1.000000  0.250983  0.472083\n",
              "NFLX     0.151477  0.250983  1.000000  0.191288\n",
              "MSFT     0.393467  0.472083  0.191288  1.000000"
            ]
          },
          "metadata": {
            "tags": []
          },
          "execution_count": 194
        }
      ]
    },
    {
      "cell_type": "code",
      "metadata": {
        "colab": {
          "base_uri": "https://localhost:8080/",
          "height": 421
        },
        "id": "v35beBbe1atl",
        "outputId": "442da0cd-320e-4080-91e6-18493e172864"
      },
      "source": [
        "plt.imshow(corr, cmap='RdBu_r', interpolation='none')\n",
        "plt.colorbar()\n",
        "plt.xticks(range(len(corr)), corr.columns)\n",
        "plt.yticks(range(len(corr)), corr.columns);"
      ],
      "execution_count": 195,
      "outputs": [
        {
          "output_type": "display_data",
          "data": {
            "image/png": "[encoded data removed]",
            "text/plain": [
              "<Figure size 576x504 with 2 Axes>"
            ]
          },
          "metadata": {
            "tags": []
          }
        }
      ]
    },
    {
      "cell_type": "code",
      "metadata": {
        "colab": {
          "base_uri": "https://localhost:8080/",
          "height": 445
        },
        "id": "E867X3EA1k9E",
        "outputId": "0f60e048-04d6-41ab-fcb6-4d01703578dd"
      },
      "source": [
        "# here the graph shows the plotting of stock in terms of risk of buying the stock and profit of selling it.\n",
        "plt.scatter(retscomp.mean(), retscomp.std())\n",
        "plt.xlabel('Risk')\n",
        "plt.ylabel('Expected returns')\n",
        "for label, x, y in zip(retscomp.columns, retscomp.mean(), retscomp.std()):\n",
        "    plt.annotate(\n",
        "        label, \n",
        "        xy = (x, y), xytext = (20, -20),\n",
        "        textcoords = 'offset points', ha = 'right', va = 'bottom',\n",
        "        bbox = dict(boxstyle = 'round,pad=0.5', fc = 'yellow', alpha = 0.5),\n",
        "        arrowprops = dict(arrowstyle = '->', connectionstyle = 'arc3,rad=0'))"
      ],
      "execution_count": 196,
      "outputs": [
        {
          "output_type": "display_data",
          "data": {
            "image/png": "[encoded data removed]",
            "text/plain": [
              "<Figure size 576x504 with 1 Axes>"
            ]
          },
          "metadata": {
            "tags": []
          }
        }
      ]
    },
    {
      "cell_type": "code",
      "metadata": {
        "colab": {
          "base_uri": "https://localhost:8080/",
          "height": 486
        },
        "id": "k4dVJm6L2qAz",
        "outputId": "2ad9828e-1e9a-46d4-d21c-0b6ca7f14268"
      },
      "source": [
        "# Plot Open vs Close\n",
        "dfa[['Open','Close']].head(20).plot(kind='bar',figsize=(16,8))\n",
        "plt.grid(which='major', linestyle='-', linewidth='0.5', color='green')\n",
        "plt.grid(which='minor', linestyle=':', linewidth='0.5', color='black')\n",
        "plt.show()"
      ],
      "execution_count": 197,
      "outputs": [
        {
          "output_type": "display_data",
          "data": {
            "image/png": "[encoded data removed]",
            "text/plain": [
              "<Figure size 1152x576 with 1 Axes>"
            ]
          },
          "metadata": {
            "tags": []
          }
        }
      ]
    },
    {
      "cell_type": "markdown",
      "metadata": {
        "id": "0d3noNAW2tEe"
      },
      "source": [
        "# **Model Training and Testing**"
      ]
    },
    {
      "cell_type": "code",
      "metadata": {
        "colab": {
          "base_uri": "https://localhost:8080/"
        },
        "id": "FCcR1vIx2weG",
        "outputId": "69104ac0-dbae-480b-bb84-dcc3e1e64f97"
      },
      "source": [
        "# Date format is DateTime and it will throw error while training so I have created seperate month, year and date entities\n",
        "# Apple \n",
        "dfa['Year']=dfa['Date'].dt.year\n",
        "dfa['Month']=dfa['Date'].dt.year\n",
        "dfa['Day']=dfa['Date'].dt.year\n",
        "dfa['Year']"
      ],
      "execution_count": 198,
      "outputs": [
        {
          "output_type": "execute_result",
          "data": {
            "text/plain": [
              "0       2010\n",
              "1       2010\n",
              "2       2010\n",
              "3       2010\n",
              "4       2010\n",
              "        ... \n",
              "1764    2017\n",
              "1765    2017\n",
              "1766    2017\n",
              "1767    2017\n",
              "1768    2017\n",
              "Name: Year, Length: 1769, dtype: int64"
            ]
          },
          "metadata": {
            "tags": []
          },
          "execution_count": 198
        }
      ]
    },
    {
      "cell_type": "code",
      "metadata": {
        "id": "_SblA8u0Atxd"
      },
      "source": [
        "# Netflix \n",
        "dfn['Year']=dfn['Date'].dt.year\n",
        "dfn['Month']=dfn['Date'].dt.year\n",
        "dfn['Day']=dfn['Date'].dt.year\n",
        "# Microsoft \n",
        "dfm['Year']=dfm['Date'].dt.year\n",
        "dfm['Month']=dfm['Date'].dt.year\n",
        "dfm['Day']=dfm['Date'].dt.year\n",
        "# Google \n",
        "dfg['Year']=dfg['Date'].dt.year\n",
        "dfg['Month']=dfg['Date'].dt.year\n",
        "dfg['Day']=dfg['Date'].dt.year"
      ],
      "execution_count": 199,
      "outputs": []
    },
    {
      "cell_type": "code",
      "metadata": {
        "colab": {
          "base_uri": "https://localhost:8080/",
          "height": 402
        },
        "id": "IOPlJxrEAuoD",
        "outputId": "d82a3dfc-9ead-4b28-9e77-fc30b947e5b0"
      },
      "source": [
        "dfreg = dfa.loc[:,['Adj Close','Volume']]\n",
        "dfreg['HL_PCT'] = (dfa['High'] - dfa['Low']) / dfa['Close'] * 100.0\n",
        "dfreg['PCT_change'] = (dfa['Close'] - dfa['Open']) / dfa['Open'] * 100.0\n",
        "dfreg"
      ],
      "execution_count": 200,
      "outputs": [
        {
          "output_type": "execute_result",
          "data": {
            "text/html": [
              "<div>\n",
              "<style scoped>\n",
              "    .dataframe tbody tr th:only-of-type {\n",
              "        vertical-align: middle;\n",
              "    }\n",
              "\n",
              "    .dataframe tbody tr th {\n",
              "        vertical-align: top;\n",
              "    }\n",
              "\n",
              "    .dataframe thead th {\n",
              "        text-align: right;\n",
              "    }\n",
              "</style>\n",
              "<table border=\"1\" class=\"dataframe\">\n",
              "  <thead>\n",
              "    <tr style=\"text-align: right;\">\n",
              "      <th></th>\n",
              "      <th>Adj Close</th>\n",
              "      <th>Volume</th>\n",
              "      <th>HL_PCT</th>\n",
              "      <th>PCT_change</th>\n",
              "    </tr>\n",
              "  </thead>\n",
              "  <tbody>\n",
              "    <tr>\n",
              "      <th>0</th>\n",
              "      <td>6.539882</td>\n",
              "      <td>493729600.0</td>\n",
              "      <td>0.990606</td>\n",
              "      <td>0.271752</td>\n",
              "    </tr>\n",
              "    <tr>\n",
              "      <th>1</th>\n",
              "      <td>6.551187</td>\n",
              "      <td>601904800.0</td>\n",
              "      <td>1.091520</td>\n",
              "      <td>-0.102519</td>\n",
              "    </tr>\n",
              "    <tr>\n",
              "      <th>2</th>\n",
              "      <td>6.446983</td>\n",
              "      <td>552160000.0</td>\n",
              "      <td>2.123523</td>\n",
              "      <td>-1.590633</td>\n",
              "    </tr>\n",
              "    <tr>\n",
              "      <th>3</th>\n",
              "      <td>6.435065</td>\n",
              "      <td>477131200.0</td>\n",
              "      <td>1.400893</td>\n",
              "      <td>-0.552538</td>\n",
              "    </tr>\n",
              "    <tr>\n",
              "      <th>4</th>\n",
              "      <td>6.477847</td>\n",
              "      <td>447610800.0</td>\n",
              "      <td>1.386924</td>\n",
              "      <td>0.798864</td>\n",
              "    </tr>\n",
              "    <tr>\n",
              "      <th>...</th>\n",
              "      <td>...</td>\n",
              "      <td>...</td>\n",
              "      <td>...</td>\n",
              "      <td>...</td>\n",
              "    </tr>\n",
              "    <tr>\n",
              "      <th>1764</th>\n",
              "      <td>27.385668</td>\n",
              "      <td>88774400.0</td>\n",
              "      <td>0.900440</td>\n",
              "      <td>0.595240</td>\n",
              "    </tr>\n",
              "    <tr>\n",
              "      <th>1765</th>\n",
              "      <td>27.690971</td>\n",
              "      <td>127007600.0</td>\n",
              "      <td>1.433299</td>\n",
              "      <td>0.967636</td>\n",
              "    </tr>\n",
              "    <tr>\n",
              "      <th>1766</th>\n",
              "      <td>27.944603</td>\n",
              "      <td>134247600.0</td>\n",
              "      <td>1.252204</td>\n",
              "      <td>0.881730</td>\n",
              "    </tr>\n",
              "    <tr>\n",
              "      <th>1767</th>\n",
              "      <td>27.972786</td>\n",
              "      <td>97848400.0</td>\n",
              "      <td>0.906720</td>\n",
              "      <td>0.286271</td>\n",
              "    </tr>\n",
              "    <tr>\n",
              "      <th>1768</th>\n",
              "      <td>28.123089</td>\n",
              "      <td>110354400.0</td>\n",
              "      <td>1.110649</td>\n",
              "      <td>0.850600</td>\n",
              "    </tr>\n",
              "  </tbody>\n",
              "</table>\n",
              "<p>1769 rows × 4 columns</p>\n",
              "</div>"
            ],
            "text/plain": [
              "      Adj Close       Volume    HL_PCT  PCT_change\n",
              "0      6.539882  493729600.0  0.990606    0.271752\n",
              "1      6.551187  601904800.0  1.091520   -0.102519\n",
              "2      6.446983  552160000.0  2.123523   -1.590633\n",
              "3      6.435065  477131200.0  1.400893   -0.552538\n",
              "4      6.477847  447610800.0  1.386924    0.798864\n",
              "...         ...          ...       ...         ...\n",
              "1764  27.385668   88774400.0  0.900440    0.595240\n",
              "1765  27.690971  127007600.0  1.433299    0.967636\n",
              "1766  27.944603  134247600.0  1.252204    0.881730\n",
              "1767  27.972786   97848400.0  0.906720    0.286271\n",
              "1768  28.123089  110354400.0  1.110649    0.850600\n",
              "\n",
              "[1769 rows x 4 columns]"
            ]
          },
          "metadata": {
            "tags": []
          },
          "execution_count": 200
        }
      ]
    },
    {
      "cell_type": "code",
      "metadata": {
        "colab": {
          "base_uri": "https://localhost:8080/",
          "height": 343
        },
        "id": "LAcfu2e4X9Re",
        "outputId": "ca5ca734-2c66-46b6-a593-7feead4aee24"
      },
      "source": [
        "aapl_df=dfa[['Day','Month','Year','High','Open','Low','Close']]\n",
        "aapl_df.head(10)"
      ],
      "execution_count": 201,
      "outputs": [
        {
          "output_type": "execute_result",
          "data": {
            "text/html": [
              "<div>\n",
              "<style scoped>\n",
              "    .dataframe tbody tr th:only-of-type {\n",
              "        vertical-align: middle;\n",
              "    }\n",
              "\n",
              "    .dataframe tbody tr th {\n",
              "        vertical-align: top;\n",
              "    }\n",
              "\n",
              "    .dataframe thead th {\n",
              "        text-align: right;\n",
              "    }\n",
              "</style>\n",
              "<table border=\"1\" class=\"dataframe\">\n",
              "  <thead>\n",
              "    <tr style=\"text-align: right;\">\n",
              "      <th></th>\n",
              "      <th>Day</th>\n",
              "      <th>Month</th>\n",
              "      <th>Year</th>\n",
              "      <th>High</th>\n",
              "      <th>Open</th>\n",
              "      <th>Low</th>\n",
              "      <th>Close</th>\n",
              "    </tr>\n",
              "  </thead>\n",
              "  <tbody>\n",
              "    <tr>\n",
              "      <th>0</th>\n",
              "      <td>2010</td>\n",
              "      <td>2010</td>\n",
              "      <td>2010</td>\n",
              "      <td>7.660714</td>\n",
              "      <td>7.622500</td>\n",
              "      <td>7.585000</td>\n",
              "      <td>7.643214</td>\n",
              "    </tr>\n",
              "    <tr>\n",
              "      <th>1</th>\n",
              "      <td>2010</td>\n",
              "      <td>2010</td>\n",
              "      <td>2010</td>\n",
              "      <td>7.699643</td>\n",
              "      <td>7.664286</td>\n",
              "      <td>7.616071</td>\n",
              "      <td>7.656428</td>\n",
              "    </tr>\n",
              "    <tr>\n",
              "      <th>2</th>\n",
              "      <td>2010</td>\n",
              "      <td>2010</td>\n",
              "      <td>2010</td>\n",
              "      <td>7.686786</td>\n",
              "      <td>7.656428</td>\n",
              "      <td>7.526786</td>\n",
              "      <td>7.534643</td>\n",
              "    </tr>\n",
              "    <tr>\n",
              "      <th>3</th>\n",
              "      <td>2010</td>\n",
              "      <td>2010</td>\n",
              "      <td>2010</td>\n",
              "      <td>7.571429</td>\n",
              "      <td>7.562500</td>\n",
              "      <td>7.466072</td>\n",
              "      <td>7.520714</td>\n",
              "    </tr>\n",
              "    <tr>\n",
              "      <th>4</th>\n",
              "      <td>2010</td>\n",
              "      <td>2010</td>\n",
              "      <td>2010</td>\n",
              "      <td>7.571429</td>\n",
              "      <td>7.510714</td>\n",
              "      <td>7.466429</td>\n",
              "      <td>7.570714</td>\n",
              "    </tr>\n",
              "    <tr>\n",
              "      <th>5</th>\n",
              "      <td>2010</td>\n",
              "      <td>2010</td>\n",
              "      <td>2010</td>\n",
              "      <td>7.607143</td>\n",
              "      <td>7.600000</td>\n",
              "      <td>7.444643</td>\n",
              "      <td>7.503929</td>\n",
              "    </tr>\n",
              "    <tr>\n",
              "      <th>6</th>\n",
              "      <td>2010</td>\n",
              "      <td>2010</td>\n",
              "      <td>2010</td>\n",
              "      <td>7.491786</td>\n",
              "      <td>7.471071</td>\n",
              "      <td>7.372143</td>\n",
              "      <td>7.418571</td>\n",
              "    </tr>\n",
              "    <tr>\n",
              "      <th>7</th>\n",
              "      <td>2010</td>\n",
              "      <td>2010</td>\n",
              "      <td>2010</td>\n",
              "      <td>7.533214</td>\n",
              "      <td>7.423929</td>\n",
              "      <td>7.289286</td>\n",
              "      <td>7.523214</td>\n",
              "    </tr>\n",
              "    <tr>\n",
              "      <th>8</th>\n",
              "      <td>2010</td>\n",
              "      <td>2010</td>\n",
              "      <td>2010</td>\n",
              "      <td>7.516428</td>\n",
              "      <td>7.503929</td>\n",
              "      <td>7.465000</td>\n",
              "      <td>7.479643</td>\n",
              "    </tr>\n",
              "    <tr>\n",
              "      <th>9</th>\n",
              "      <td>2010</td>\n",
              "      <td>2010</td>\n",
              "      <td>2010</td>\n",
              "      <td>7.557143</td>\n",
              "      <td>7.533214</td>\n",
              "      <td>7.352500</td>\n",
              "      <td>7.354643</td>\n",
              "    </tr>\n",
              "  </tbody>\n",
              "</table>\n",
              "</div>"
            ],
            "text/plain": [
              "    Day  Month  Year      High      Open       Low     Close\n",
              "0  2010   2010  2010  7.660714  7.622500  7.585000  7.643214\n",
              "1  2010   2010  2010  7.699643  7.664286  7.616071  7.656428\n",
              "2  2010   2010  2010  7.686786  7.656428  7.526786  7.534643\n",
              "3  2010   2010  2010  7.571429  7.562500  7.466072  7.520714\n",
              "4  2010   2010  2010  7.571429  7.510714  7.466429  7.570714\n",
              "5  2010   2010  2010  7.607143  7.600000  7.444643  7.503929\n",
              "6  2010   2010  2010  7.491786  7.471071  7.372143  7.418571\n",
              "7  2010   2010  2010  7.533214  7.423929  7.289286  7.523214\n",
              "8  2010   2010  2010  7.516428  7.503929  7.465000  7.479643\n",
              "9  2010   2010  2010  7.557143  7.533214  7.352500  7.354643"
            ]
          },
          "metadata": {
            "tags": []
          },
          "execution_count": 201
        }
      ]
    },
    {
      "cell_type": "code",
      "metadata": {
        "colab": {
          "base_uri": "https://localhost:8080/",
          "height": 343
        },
        "id": "OJu6eJa7YHki",
        "outputId": "bdb5616d-faba-42ad-df23-668c773f28ff"
      },
      "source": [
        "# for other stocks\n",
        "nflx_df=dfn[['Day','Month','Year','High','Open','Low','Close']]\n",
        "nflx_df.head(10)\n",
        "msft_df=dfm[['Day','Month','Year','High','Open','Low','Close']]\n",
        "msft_df.head(10)\n",
        "goog_df=dfg[['Day','Month','Year','High','Open','Low','Close']]\n",
        "goog_df.head(10)"
      ],
      "execution_count": 202,
      "outputs": [
        {
          "output_type": "execute_result",
          "data": {
            "text/html": [
              "<div>\n",
              "<style scoped>\n",
              "    .dataframe tbody tr th:only-of-type {\n",
              "        vertical-align: middle;\n",
              "    }\n",
              "\n",
              "    .dataframe tbody tr th {\n",
              "        vertical-align: top;\n",
              "    }\n",
              "\n",
              "    .dataframe thead th {\n",
              "        text-align: right;\n",
              "    }\n",
              "</style>\n",
              "<table border=\"1\" class=\"dataframe\">\n",
              "  <thead>\n",
              "    <tr style=\"text-align: right;\">\n",
              "      <th></th>\n",
              "      <th>Day</th>\n",
              "      <th>Month</th>\n",
              "      <th>Year</th>\n",
              "      <th>High</th>\n",
              "      <th>Open</th>\n",
              "      <th>Low</th>\n",
              "      <th>Close</th>\n",
              "    </tr>\n",
              "  </thead>\n",
              "  <tbody>\n",
              "    <tr>\n",
              "      <th>0</th>\n",
              "      <td>2010</td>\n",
              "      <td>2010</td>\n",
              "      <td>2010</td>\n",
              "      <td>313.579620</td>\n",
              "      <td>312.304413</td>\n",
              "      <td>310.954468</td>\n",
              "      <td>312.204773</td>\n",
              "    </tr>\n",
              "    <tr>\n",
              "      <th>1</th>\n",
              "      <td>2010</td>\n",
              "      <td>2010</td>\n",
              "      <td>2010</td>\n",
              "      <td>312.747742</td>\n",
              "      <td>312.418976</td>\n",
              "      <td>309.609497</td>\n",
              "      <td>310.829926</td>\n",
              "    </tr>\n",
              "    <tr>\n",
              "      <th>2</th>\n",
              "      <td>2010</td>\n",
              "      <td>2010</td>\n",
              "      <td>2010</td>\n",
              "      <td>311.761444</td>\n",
              "      <td>311.761444</td>\n",
              "      <td>302.047852</td>\n",
              "      <td>302.994293</td>\n",
              "    </tr>\n",
              "    <tr>\n",
              "      <th>3</th>\n",
              "      <td>2010</td>\n",
              "      <td>2010</td>\n",
              "      <td>2010</td>\n",
              "      <td>303.861053</td>\n",
              "      <td>303.562164</td>\n",
              "      <td>295.218445</td>\n",
              "      <td>295.940735</td>\n",
              "    </tr>\n",
              "    <tr>\n",
              "      <th>4</th>\n",
              "      <td>2010</td>\n",
              "      <td>2010</td>\n",
              "      <td>2010</td>\n",
              "      <td>300.498657</td>\n",
              "      <td>294.894653</td>\n",
              "      <td>293.455048</td>\n",
              "      <td>299.885956</td>\n",
              "    </tr>\n",
              "    <tr>\n",
              "      <th>5</th>\n",
              "      <td>2010</td>\n",
              "      <td>2010</td>\n",
              "      <td>2010</td>\n",
              "      <td>301.101410</td>\n",
              "      <td>301.101410</td>\n",
              "      <td>295.910858</td>\n",
              "      <td>299.432648</td>\n",
              "    </tr>\n",
              "    <tr>\n",
              "      <th>6</th>\n",
              "      <td>2010</td>\n",
              "      <td>2010</td>\n",
              "      <td>2010</td>\n",
              "      <td>297.963165</td>\n",
              "      <td>297.709106</td>\n",
              "      <td>292.902130</td>\n",
              "      <td>294.137512</td>\n",
              "    </tr>\n",
              "    <tr>\n",
              "      <th>7</th>\n",
              "      <td>2010</td>\n",
              "      <td>2010</td>\n",
              "      <td>2010</td>\n",
              "      <td>293.091431</td>\n",
              "      <td>287.168610</td>\n",
              "      <td>285.878448</td>\n",
              "      <td>292.448822</td>\n",
              "    </tr>\n",
              "    <tr>\n",
              "      <th>8</th>\n",
              "      <td>2010</td>\n",
              "      <td>2010</td>\n",
              "      <td>2010</td>\n",
              "      <td>295.990540</td>\n",
              "      <td>290.859772</td>\n",
              "      <td>290.316833</td>\n",
              "      <td>293.823669</td>\n",
              "    </tr>\n",
              "    <tr>\n",
              "      <th>9</th>\n",
              "      <td>2010</td>\n",
              "      <td>2010</td>\n",
              "      <td>2010</td>\n",
              "      <td>295.671753</td>\n",
              "      <td>295.562164</td>\n",
              "      <td>287.940735</td>\n",
              "      <td>288.917053</td>\n",
              "    </tr>\n",
              "  </tbody>\n",
              "</table>\n",
              "</div>"
            ],
            "text/plain": [
              "    Day  Month  Year        High        Open         Low       Close\n",
              "0  2010   2010  2010  313.579620  312.304413  310.954468  312.204773\n",
              "1  2010   2010  2010  312.747742  312.418976  309.609497  310.829926\n",
              "2  2010   2010  2010  311.761444  311.761444  302.047852  302.994293\n",
              "3  2010   2010  2010  303.861053  303.562164  295.218445  295.940735\n",
              "4  2010   2010  2010  300.498657  294.894653  293.455048  299.885956\n",
              "5  2010   2010  2010  301.101410  301.101410  295.910858  299.432648\n",
              "6  2010   2010  2010  297.963165  297.709106  292.902130  294.137512\n",
              "7  2010   2010  2010  293.091431  287.168610  285.878448  292.448822\n",
              "8  2010   2010  2010  295.990540  290.859772  290.316833  293.823669\n",
              "9  2010   2010  2010  295.671753  295.562164  287.940735  288.917053"
            ]
          },
          "metadata": {
            "tags": []
          },
          "execution_count": 202
        }
      ]
    },
    {
      "cell_type": "code",
      "metadata": {
        "colab": {
          "base_uri": "https://localhost:8080/"
        },
        "id": "F2Eum9N3YLa_",
        "outputId": "52c25e6b-527e-481a-e92a-2b1d8cefaeb2"
      },
      "source": [
        "#separate Independent and dependent variable\n",
        "X = aapl_df.iloc[:,3:6]\n",
        "Y= aapl_df.iloc[:, 6]\n",
        "print(X.shape)\n",
        "print(Y.shape)"
      ],
      "execution_count": 203,
      "outputs": [
        {
          "output_type": "stream",
          "text": [
            "(1769, 3)\n",
            "(1769,)\n"
          ],
          "name": "stdout"
        }
      ]
    },
    {
      "cell_type": "markdown",
      "metadata": {
        "id": "sC1qrSbhYT1k"
      },
      "source": [
        "# **Splitting the dataset into train and test**"
      ]
    },
    {
      "cell_type": "code",
      "metadata": {
        "id": "pQ57VAi1YS0S"
      },
      "source": [
        "x_train,x_test,y_train,y_test= train_test_split(X,Y,train_size=0.8,test_size=0.2, random_state=101)"
      ],
      "execution_count": 204,
      "outputs": []
    },
    {
      "cell_type": "code",
      "metadata": {
        "colab": {
          "base_uri": "https://localhost:8080/"
        },
        "id": "hqM5THO3YYDt",
        "outputId": "0011b17f-6a6c-452d-9313-e406c78e6aa0"
      },
      "source": [
        "print(x_train.shape) \n",
        "print(x_test.shape)  \n",
        "print(y_train.shape)\n",
        "print(y_test.shape) \n",
        "#y_test to be evaluated with y_pred for Diff models"
      ],
      "execution_count": 205,
      "outputs": [
        {
          "output_type": "stream",
          "text": [
            "(1415, 3)\n",
            "(354, 3)\n",
            "(1415,)\n",
            "(354,)\n"
          ],
          "name": "stdout"
        }
      ]
    },
    {
      "cell_type": "markdown",
      "metadata": {
        "id": "BbwUIQ8IYb-G"
      },
      "source": [
        "# **Linear Regression Model Training and Testing**"
      ]
    },
    {
      "cell_type": "code",
      "metadata": {
        "colab": {
          "base_uri": "https://localhost:8080/",
          "height": 402
        },
        "id": "wLsa32y2YbfZ",
        "outputId": "c2d86839-0316-4b54-f9e4-e0ff3e1d634f"
      },
      "source": [
        "regressor = LinearRegression()\n",
        "regressor.fit(x_train, y_train)\n",
        "y_pred=regressor.predict(x_test)\n",
        "df = pd.DataFrame({'Actual': y_test, 'Predicted': y_pred})\n",
        "df"
      ],
      "execution_count": 206,
      "outputs": [
        {
          "output_type": "execute_result",
          "data": {
            "text/html": [
              "<div>\n",
              "<style scoped>\n",
              "    .dataframe tbody tr th:only-of-type {\n",
              "        vertical-align: middle;\n",
              "    }\n",
              "\n",
              "    .dataframe tbody tr th {\n",
              "        vertical-align: top;\n",
              "    }\n",
              "\n",
              "    .dataframe thead th {\n",
              "        text-align: right;\n",
              "    }\n",
              "</style>\n",
              "<table border=\"1\" class=\"dataframe\">\n",
              "  <thead>\n",
              "    <tr style=\"text-align: right;\">\n",
              "      <th></th>\n",
              "      <th>Actual</th>\n",
              "      <th>Predicted</th>\n",
              "    </tr>\n",
              "  </thead>\n",
              "  <tbody>\n",
              "    <tr>\n",
              "      <th>1230</th>\n",
              "      <td>29.077499</td>\n",
              "      <td>29.111403</td>\n",
              "    </tr>\n",
              "    <tr>\n",
              "      <th>89</th>\n",
              "      <td>9.360357</td>\n",
              "      <td>9.363395</td>\n",
              "    </tr>\n",
              "    <tr>\n",
              "      <th>801</th>\n",
              "      <td>15.301071</td>\n",
              "      <td>15.438995</td>\n",
              "    </tr>\n",
              "    <tr>\n",
              "      <th>1669</th>\n",
              "      <td>27.340000</td>\n",
              "      <td>27.294344</td>\n",
              "    </tr>\n",
              "    <tr>\n",
              "      <th>1503</th>\n",
              "      <td>26.807501</td>\n",
              "      <td>26.724816</td>\n",
              "    </tr>\n",
              "    <tr>\n",
              "      <th>...</th>\n",
              "      <td>...</td>\n",
              "      <td>...</td>\n",
              "    </tr>\n",
              "    <tr>\n",
              "      <th>7</th>\n",
              "      <td>7.523214</td>\n",
              "      <td>7.420172</td>\n",
              "    </tr>\n",
              "    <tr>\n",
              "      <th>563</th>\n",
              "      <td>22.057858</td>\n",
              "      <td>21.952542</td>\n",
              "    </tr>\n",
              "    <tr>\n",
              "      <th>988</th>\n",
              "      <td>20.282143</td>\n",
              "      <td>20.351763</td>\n",
              "    </tr>\n",
              "    <tr>\n",
              "      <th>1570</th>\n",
              "      <td>27.247499</td>\n",
              "      <td>27.294777</td>\n",
              "    </tr>\n",
              "    <tr>\n",
              "      <th>1586</th>\n",
              "      <td>26.420000</td>\n",
              "      <td>26.475958</td>\n",
              "    </tr>\n",
              "  </tbody>\n",
              "</table>\n",
              "<p>354 rows × 2 columns</p>\n",
              "</div>"
            ],
            "text/plain": [
              "         Actual  Predicted\n",
              "1230  29.077499  29.111403\n",
              "89     9.360357   9.363395\n",
              "801   15.301071  15.438995\n",
              "1669  27.340000  27.294344\n",
              "1503  26.807501  26.724816\n",
              "...         ...        ...\n",
              "7      7.523214   7.420172\n",
              "563   22.057858  21.952542\n",
              "988   20.282143  20.351763\n",
              "1570  27.247499  27.294777\n",
              "1586  26.420000  26.475958\n",
              "\n",
              "[354 rows x 2 columns]"
            ]
          },
          "metadata": {
            "tags": []
          },
          "execution_count": 206
        }
      ]
    },
    {
      "cell_type": "markdown",
      "metadata": {
        "id": "TVGcC2dLYkQR"
      },
      "source": [
        "# **Plotting the data of linear regression (Actual VS Pred)**"
      ]
    },
    {
      "cell_type": "code",
      "metadata": {
        "colab": {
          "base_uri": "https://localhost:8080/",
          "height": 498
        },
        "id": "_2lemeWyYo3v",
        "outputId": "662feaf8-abdf-40c0-ae03-3911b2e2e427"
      },
      "source": [
        "plot_df=pd.DataFrame({'Actual':y_test,'Pred':y_pred})\n",
        "plot_df.head(20).plot(kind='bar',figsize=(16,8))\n",
        "plt.grid(which='major', linestyle='-', linewidth='0.5', color='green')\n",
        "plt.grid(which='minor', linestyle=':', linewidth='0.5', color='black')\n",
        "plt.show()"
      ],
      "execution_count": 207,
      "outputs": [
        {
          "output_type": "display_data",
          "data": {
            "image/png": "[encoded data removed]",
            "text/plain": [
              "<Figure size 1152x576 with 1 Axes>"
            ]
          },
          "metadata": {
            "tags": []
          }
        }
      ]
    },
    {
      "cell_type": "markdown",
      "metadata": {
        "id": "A2tvw6wNZuAi"
      },
      "source": [
        "# **Function cost & Accuracy Linear regression**"
      ]
    },
    {
      "cell_type": "code",
      "metadata": {
        "colab": {
          "base_uri": "https://localhost:8080/"
        },
        "id": "k--jsXkcYuEh",
        "outputId": "420dc2d1-a1e2-4a11-8611-9be2cdae51c3"
      },
      "source": [
        "# The mean squared error # cost function\n",
        "print('Mean squared error: %.2f'\n",
        "      % mean_squared_error(y_test,y_pred))"
      ],
      "execution_count": 208,
      "outputs": [
        {
          "output_type": "stream",
          "text": [
            "Mean squared error: 0.01\n"
          ],
          "name": "stdout"
        }
      ]
    },
    {
      "cell_type": "code",
      "metadata": {
        "colab": {
          "base_uri": "https://localhost:8080/"
        },
        "id": "weWPfU7oYx-f",
        "outputId": "785a23e6-c885-41f3-9955-b9cbdcc49985"
      },
      "source": [
        "# The coefficient of determination: 1 is perfect prediction r2score & accuracy score.\n",
        "print('Coefficient of determination: %.2f'\n",
        "      % r2_score(y_test,y_pred))"
      ],
      "execution_count": 209,
      "outputs": [
        {
          "output_type": "stream",
          "text": [
            "Coefficient of determination: 1.00\n"
          ],
          "name": "stdout"
        }
      ]
    },
    {
      "cell_type": "markdown",
      "metadata": {
        "id": "pPvcvqSYZhmg"
      },
      "source": [
        "# **Model comparison with other model**"
      ]
    },
    {
      "cell_type": "markdown",
      "metadata": {
        "id": "54RSbjb_aSui"
      },
      "source": [
        "Linear Model Cross-Validation\n",
        "\n",
        "---\n",
        "\n",
        "Basically Cross Validation is a technique using which Model is evaluated on the dataset on which it is not trained i.e. it can be a test data or can be another set as per availability or feasibility."
      ]
    },
    {
      "cell_type": "markdown",
      "metadata": {
        "id": "_XoOj6Tfb_oA"
      },
      "source": [
        "# **KNN model training & testing**"
      ]
    },
    {
      "cell_type": "code",
      "metadata": {
        "id": "vtLN6_ccYx7J"
      },
      "source": [
        "from sklearn.neighbors import KNeighborsRegressor\n",
        "knn_regressor=KNeighborsRegressor(n_neighbors = 5)\n",
        "knn_model=knn_regressor.fit(x_train,y_train)\n",
        "y_knn_pred=knn_model.predict(x_test)"
      ],
      "execution_count": 210,
      "outputs": []
    },
    {
      "cell_type": "markdown",
      "metadata": {
        "id": "taf3tXL6bGXY"
      },
      "source": [
        "# **KNN Cross-Validation**"
      ]
    },
    {
      "cell_type": "code",
      "metadata": {
        "colab": {
          "base_uri": "https://localhost:8080/"
        },
        "id": "CXTGw-nbbG07",
        "outputId": "79c86df6-a570-4dcd-fc9a-f9ef13960f3e"
      },
      "source": [
        "knn_kfold = model_selection.KFold(n_splits=20, random_state=100)\n",
        "results_kfold = model_selection.cross_val_score(knn_model, x_test, y_test.astype('int'), cv=knn_kfold)\n",
        "print(results_kfold.mean()*100)"
      ],
      "execution_count": 211,
      "outputs": [
        {
          "output_type": "stream",
          "text": [
            "99.75077339374232\n"
          ],
          "name": "stdout"
        },
        {
          "output_type": "stream",
          "text": [
            "/usr/local/lib/python3.6/dist-packages/sklearn/model_selection/_split.py:296: FutureWarning: Setting a random_state has no effect since shuffle is False. This will raise an error in 0.24. You should leave random_state to its default (None), or set shuffle=True.\n",
            "  FutureWarning\n"
          ],
          "name": "stderr"
        }
      ]
    },
    {
      "cell_type": "code",
      "metadata": {
        "colab": {
          "base_uri": "https://localhost:8080/",
          "height": 402
        },
        "id": "5ui8EsOqdYdK",
        "outputId": "6d419ed7-d193-45e1-c3f6-7f977005c49b"
      },
      "source": [
        "df = pd.DataFrame({'Actual': y_test, 'Predicted': y_knn_pred})\n",
        "df"
      ],
      "execution_count": 212,
      "outputs": [
        {
          "output_type": "execute_result",
          "data": {
            "text/html": [
              "<div>\n",
              "<style scoped>\n",
              "    .dataframe tbody tr th:only-of-type {\n",
              "        vertical-align: middle;\n",
              "    }\n",
              "\n",
              "    .dataframe tbody tr th {\n",
              "        vertical-align: top;\n",
              "    }\n",
              "\n",
              "    .dataframe thead th {\n",
              "        text-align: right;\n",
              "    }\n",
              "</style>\n",
              "<table border=\"1\" class=\"dataframe\">\n",
              "  <thead>\n",
              "    <tr style=\"text-align: right;\">\n",
              "      <th></th>\n",
              "      <th>Actual</th>\n",
              "      <th>Predicted</th>\n",
              "    </tr>\n",
              "  </thead>\n",
              "  <tbody>\n",
              "    <tr>\n",
              "      <th>1230</th>\n",
              "      <td>29.077499</td>\n",
              "      <td>28.903500</td>\n",
              "    </tr>\n",
              "    <tr>\n",
              "      <th>89</th>\n",
              "      <td>9.360357</td>\n",
              "      <td>9.362072</td>\n",
              "    </tr>\n",
              "    <tr>\n",
              "      <th>801</th>\n",
              "      <td>15.301071</td>\n",
              "      <td>15.403357</td>\n",
              "    </tr>\n",
              "    <tr>\n",
              "      <th>1669</th>\n",
              "      <td>27.340000</td>\n",
              "      <td>27.278000</td>\n",
              "    </tr>\n",
              "    <tr>\n",
              "      <th>1503</th>\n",
              "      <td>26.807501</td>\n",
              "      <td>26.833000</td>\n",
              "    </tr>\n",
              "    <tr>\n",
              "      <th>...</th>\n",
              "      <td>...</td>\n",
              "      <td>...</td>\n",
              "    </tr>\n",
              "    <tr>\n",
              "      <th>7</th>\n",
              "      <td>7.523214</td>\n",
              "      <td>7.421714</td>\n",
              "    </tr>\n",
              "    <tr>\n",
              "      <th>563</th>\n",
              "      <td>22.057858</td>\n",
              "      <td>21.948786</td>\n",
              "    </tr>\n",
              "    <tr>\n",
              "      <th>988</th>\n",
              "      <td>20.282143</td>\n",
              "      <td>20.436000</td>\n",
              "    </tr>\n",
              "    <tr>\n",
              "      <th>1570</th>\n",
              "      <td>27.247499</td>\n",
              "      <td>27.413000</td>\n",
              "    </tr>\n",
              "    <tr>\n",
              "      <th>1586</th>\n",
              "      <td>26.420000</td>\n",
              "      <td>26.462500</td>\n",
              "    </tr>\n",
              "  </tbody>\n",
              "</table>\n",
              "<p>354 rows × 2 columns</p>\n",
              "</div>"
            ],
            "text/plain": [
              "         Actual  Predicted\n",
              "1230  29.077499  28.903500\n",
              "89     9.360357   9.362072\n",
              "801   15.301071  15.403357\n",
              "1669  27.340000  27.278000\n",
              "1503  26.807501  26.833000\n",
              "...         ...        ...\n",
              "7      7.523214   7.421714\n",
              "563   22.057858  21.948786\n",
              "988   20.282143  20.436000\n",
              "1570  27.247499  27.413000\n",
              "1586  26.420000  26.462500\n",
              "\n",
              "[354 rows x 2 columns]"
            ]
          },
          "metadata": {
            "tags": []
          },
          "execution_count": 212
        }
      ]
    },
    {
      "cell_type": "code",
      "metadata": {
        "colab": {
          "base_uri": "https://localhost:8080/",
          "height": 498
        },
        "id": "I9YfQU7gcz9r",
        "outputId": "8f708d3c-fa35-4a65-ef0a-6d532171ecad"
      },
      "source": [
        "plot_knn_df=pd.DataFrame({'Actual':y_test,'Pred':y_knn_pred})\n",
        "plot_knn_df.head(20).plot(kind='bar',figsize=(16,8))\n",
        "plt.grid(which='major', linestyle='-', linewidth='0.5', color='green')\n",
        "plt.grid(which='minor', linestyle=':', linewidth='0.5', color='black')\n",
        "plt.show()"
      ],
      "execution_count": 213,
      "outputs": [
        {
          "output_type": "display_data",
          "data": {
            "image/png": "[encoded data removed]",
            "text/plain": [
              "<Figure size 1152x576 with 1 Axes>"
            ]
          },
          "metadata": {
            "tags": []
          }
        }
      ]
    },
    {
      "cell_type": "markdown",
      "metadata": {
        "id": "Ghalax7idni-"
      },
      "source": [
        "# **Function cost KNN**"
      ]
    },
    {
      "cell_type": "code",
      "metadata": {
        "colab": {
          "base_uri": "https://localhost:8080/"
        },
        "id": "5zR7siH_do_O",
        "outputId": "05e7ba3d-1ba2-45d5-e9bd-0ddd664ff91c"
      },
      "source": [
        "knn_mse=math.sqrt(mean_squared_error(y_test,y_knn_pred))\n",
        "print(knn_mse)"
      ],
      "execution_count": 214,
      "outputs": [
        {
          "output_type": "stream",
          "text": [
            "0.14464117724971082\n"
          ],
          "name": "stdout"
        }
      ]
    }
  ]
}